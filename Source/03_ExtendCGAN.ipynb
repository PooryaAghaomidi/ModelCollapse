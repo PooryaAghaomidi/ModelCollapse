{
 "cells": [
  {
   "cell_type": "markdown",
   "metadata": {
    "id": "ljWE-qDpqEB4"
   },
   "source": [
    "# Preparation"
   ]
  },
  {
   "cell_type": "code",
   "source": [
    "seed_value= 42\n",
    "\n",
    "import random\n",
    "random.seed(seed_value)\n",
    "\n",
    "import numpy as np\n",
    "np.random.seed(seed_value)\n",
    "\n",
    "import tensorflow as tf\n",
    "tf.random.set_seed(seed_value)\n",
    "tf.keras.utils.set_random_seed(seed_value)"
   ],
   "metadata": {
    "id": "sUr3ZyJyqgvf",
    "ExecuteTime": {
     "end_time": "2024-11-23T15:26:15.108667Z",
     "start_time": "2024-11-23T15:26:12.967955100Z"
    }
   },
   "execution_count": 1,
   "outputs": []
  },
  {
   "cell_type": "code",
   "source": [
    "import os\n",
    "\n",
    "os.environ[\"CUDA_VISIBLE_DEVICES\"]=\"0\"\n",
    "print(tf.__version__)\n",
    "print(tf.config.list_physical_devices('GPU'))"
   ],
   "metadata": {
    "id": "lFlwHbbEqm_C",
    "outputId": "425f2df4-2ddd-4dfc-ad66-676b769608aa",
    "colab": {
     "base_uri": "https://localhost:8080/"
    },
    "ExecuteTime": {
     "end_time": "2024-11-23T15:26:15.142712700Z",
     "start_time": "2024-11-23T15:26:15.127062400Z"
    }
   },
   "execution_count": 2,
   "outputs": [
    {
     "name": "stdout",
     "output_type": "stream",
     "text": [
      "2.9.0\n",
      "[PhysicalDevice(name='/physical_device:GPU:0', device_type='GPU')]\n"
     ]
    }
   ]
  },
  {
   "cell_type": "code",
   "execution_count": 3,
   "metadata": {
    "id": "UxBHr1ztqECA",
    "ExecuteTime": {
     "end_time": "2024-11-23T15:26:15.364860200Z",
     "start_time": "2024-11-23T15:26:15.142712700Z"
    }
   },
   "outputs": [],
   "source": [
    "import matplotlib.pyplot as plt\n",
    "from tensorflow import keras\n",
    "from tensorflow.keras import layers"
   ]
  },
  {
   "cell_type": "code",
   "execution_count": 4,
   "metadata": {
    "id": "pQGJI2aIqECB",
    "ExecuteTime": {
     "end_time": "2024-11-23T15:26:15.380870700Z",
     "start_time": "2024-11-23T15:26:15.364860200Z"
    }
   },
   "outputs": [],
   "source": [
    "num_epochs  = 20\n",
    "batch_size  = 32\n",
    "num_classes = 10\n",
    "shape       = (28, 28, 1)\n",
    "opt_d       = keras.optimizers.Adam(learning_rate=0.0002, beta_1=0.5)\n",
    "opt_g       = keras.optimizers.Adam(learning_rate=0.0002, beta_1=0.5)\n",
    "los         = keras.losses.BinaryCrossentropy()\n",
    "latent_dim  = 28"
   ]
  },
  {
   "cell_type": "markdown",
   "metadata": {
    "id": "VkbDK0AAqECC"
   },
   "source": [
    "# Dataset"
   ]
  },
  {
   "cell_type": "code",
   "execution_count": 5,
   "metadata": {
    "id": "IyJalcA1qECC",
    "outputId": "4e3fe176-81ee-48f4-9260-7456854ed5a7",
    "colab": {
     "base_uri": "https://localhost:8080/"
    },
    "ExecuteTime": {
     "end_time": "2024-11-23T15:26:15.396500900Z",
     "start_time": "2024-11-23T15:26:15.380870700Z"
    }
   },
   "outputs": [],
   "source": [
    "def prepare_data(iteration, main_path, generated_path, replace):\n",
    "    with np.load(main_path) as data:\n",
    "        x_train, y_train = data['x_train'], data['y_train']\n",
    "    \n",
    "    if iteration == 0:\n",
    "        x_train = x_train.astype(\"float32\") / 255.0\n",
    "        x_train = np.reshape(x_train, (-1, 28, 28, 1))\n",
    "        y_train = keras.utils.to_categorical(y_train, 10)\n",
    "        train_dataset = tf.data.Dataset.from_tensor_slices((x_train, y_train))\n",
    "        train_dataset = train_dataset.shuffle(buffer_size=1024).batch(batch_size)\n",
    "        \n",
    "    elif iteration == 6:\n",
    "        with np.load(generated_path) as extra:\n",
    "            extra_images, extra_labels = extra[\"images\"], extra[\"labels\"]\n",
    "        \n",
    "        if replace:\n",
    "            x_train = extra_images\n",
    "        else:\n",
    "            x_train = np.concatenate((x_train, extra_images), axis=0)\n",
    "            y_train = keras.utils.to_categorical(y_train, 10)\n",
    "        \n",
    "        x_train = x_train.astype(\"float32\") / 255.0\n",
    "        x_train = np.reshape(x_train, (-1, 28, 28, 1))\n",
    "        train_dataset = tf.data.Dataset.from_tensor_slices((x_train, y_train))\n",
    "        train_dataset = train_dataset.shuffle(buffer_size=1024).batch(batch_size)\n",
    "        \n",
    "        y_train = extra_labels\n",
    "        \n",
    "    else:\n",
    "        with np.load(generated_path) as extra:\n",
    "            extra_images, extra_labels = extra[\"images\"], extra[\"labels\"]\n",
    "        \n",
    "        if replace:\n",
    "            added_len = len(extra_images) * -1\n",
    "            x_train = np.concatenate((x_train[:added_len], extra_images), axis=0)\n",
    "            y_train = keras.utils.to_categorical(y_train[:added_len], 10)\n",
    "        else:\n",
    "            x_train = np.concatenate((x_train, extra_images), axis=0)\n",
    "            y_train = keras.utils.to_categorical(y_train, 10)\n",
    "        \n",
    "        x_train = x_train.astype(\"float32\") / 255.0\n",
    "        x_train = np.reshape(x_train, (-1, 28, 28, 1))\n",
    "        y_train = np.concatenate((y_train, extra_labels), axis=0)\n",
    "        train_dataset = tf.data.Dataset.from_tensor_slices((x_train, y_train))\n",
    "        train_dataset = train_dataset.shuffle(buffer_size=1024).batch(batch_size)\n",
    "            \n",
    "    print(f\"Shape of training images: {x_train.shape}\")\n",
    "    print(f\"Shape of training labels: {y_train.shape}\")\n",
    "    \n",
    "    return train_dataset\n",
    "\n",
    "generator_in_channels = latent_dim + num_classes\n",
    "discriminator_in_channels = shape[2] + num_classes   "
   ]
  },
  {
   "cell_type": "markdown",
   "metadata": {
    "id": "Xh4A2BtfqECF",
    "ExecuteTime": {
     "end_time": "2024-11-22T23:06:19.033004900Z",
     "start_time": "2024-11-22T23:06:18.970186300Z"
    }
   },
   "source": [
    "# Model"
   ]
  },
  {
   "cell_type": "code",
   "execution_count": 6,
   "metadata": {
    "id": "-E8lf3QbqECF",
    "ExecuteTime": {
     "end_time": "2024-11-23T15:26:15.412510800Z",
     "start_time": "2024-11-23T15:26:15.396500900Z"
    }
   },
   "outputs": [],
   "source": [
    "def get_models():\n",
    "    shared_input = keras.Input((shape[0], shape[1], discriminator_in_channels))\n",
    "    x = layers.Conv2D(64, (3, 3), strides=(2, 2), padding=\"same\")(shared_input)\n",
    "    x = layers.LeakyReLU(alpha=0.2)(x)\n",
    "    x = layers.Conv2D(128, (3, 3), strides=(2, 2), padding=\"same\")(x)\n",
    "    x = layers.LeakyReLU(alpha=0.2)(x)\n",
    "    x = layers.GlobalMaxPooling2D()(x)\n",
    "\n",
    "    real_fake_output = layers.Dense(1, activation=\"sigmoid\", name=\"real_fake\")(x)\n",
    "    data_i_output = layers.Dense(1, activation=\"sigmoid\", name=\"data_i_classification\")(x)\n",
    "    discriminator = keras.Model(shared_input, [real_fake_output, data_i_output], name=\"extended_discriminator\")\n",
    "    \n",
    "    generator = keras.Sequential([keras.layers.InputLayer((generator_in_channels,)),\n",
    "                                  layers.Dense(7 * 7 * generator_in_channels),\n",
    "                                  layers.LeakyReLU(alpha=0.2),\n",
    "                                  layers.Reshape((7, 7, generator_in_channels)),\n",
    "                                  layers.Conv2DTranspose(128, (4, 4), strides=(2, 2), padding=\"same\"),\n",
    "                                  layers.LeakyReLU(alpha=0.2),\n",
    "                                  layers.Conv2DTranspose(128, (4, 4), strides=(2, 2), padding=\"same\"),\n",
    "                                  layers.LeakyReLU(alpha=0.2),\n",
    "                                  layers.Conv2D(1, (7, 7), padding=\"same\", activation=\"sigmoid\")],\n",
    "                                 name=\"generator\")\n",
    "    \n",
    "    return discriminator, generator"
   ]
  },
  {
   "cell_type": "code",
   "execution_count": 7,
   "metadata": {
    "id": "nXR9LbG3qECG",
    "ExecuteTime": {
     "end_time": "2024-11-23T15:26:15.428141300Z",
     "start_time": "2024-11-23T15:26:15.412510800Z"
    }
   },
   "outputs": [],
   "source": [
    "class ConditionalGAN(keras.Model):\n",
    "    def __init__(self, discriminator, generator, latent_dim, reg_lambda):\n",
    "        super().__init__()\n",
    "        self.reg_lambda = reg_lambda\n",
    "        self.discriminator = discriminator\n",
    "        self.generator = generator\n",
    "        self.latent_dim = latent_dim\n",
    "        self.seed_generator = tf.random.Generator.from_seed(seed_value)\n",
    "        self.gen_loss_tracker = keras.metrics.Mean(name=\"generator_loss\")\n",
    "        self.disc_loss_tracker = keras.metrics.Mean(name=\"discriminator_loss\")\n",
    "\n",
    "    @property\n",
    "    def metrics(self):\n",
    "        return [self.gen_loss_tracker, self.disc_loss_tracker]\n",
    "\n",
    "    def compile(self, d_optimizer, g_optimizer, loss_fn):\n",
    "        super().compile()\n",
    "        self.d_optimizer = d_optimizer\n",
    "        self.g_optimizer = g_optimizer\n",
    "        self.loss_fn = loss_fn\n",
    "\n",
    "    def train_step(self, data):\n",
    "        real_images, one_hot_labels = data\n",
    "    \n",
    "        # Reshape and repeat one-hot labels to match the image dimensions\n",
    "        image_one_hot_labels = one_hot_labels[:, :, None, None]\n",
    "        image_one_hot_labels = tf.repeat(image_one_hot_labels, repeats=[real_images.shape[1] * real_images.shape[2]], axis=-1)\n",
    "        image_one_hot_labels = tf.reshape(image_one_hot_labels, (-1, real_images.shape[1], real_images.shape[2], one_hot_labels.shape[-1]))\n",
    "    \n",
    "        batch_size = tf.shape(real_images)[0]\n",
    "        \n",
    "        # Generate random latent vectors\n",
    "        random_latent_vectors = self.seed_generator.normal(shape=(batch_size, self.latent_dim), dtype=tf.float32)\n",
    "        random_vector_labels = tf.concat([random_latent_vectors, one_hot_labels], axis=1)\n",
    "        \n",
    "        # Generate fake images\n",
    "        generated_images = self.generator(random_vector_labels)\n",
    "        fake_image_and_labels = tf.concat([generated_images, image_one_hot_labels], axis=-1)\n",
    "        real_image_and_labels = tf.concat([real_images, image_one_hot_labels], axis=-1)\n",
    "        combined_images = tf.concat([fake_image_and_labels, real_image_and_labels], axis=0)\n",
    "        \n",
    "        # Labels for real vs. fake\n",
    "        real_fake_labels = tf.concat([tf.ones((batch_size, 1)), tf.zeros((batch_size, 1))], axis=0)\n",
    "        # Labels for Data-I classification\n",
    "        data_i_labels = tf.concat([tf.ones((batch_size, 1)), tf.zeros((batch_size, 1))], axis=0)\n",
    "    \n",
    "        # Train discriminator\n",
    "        with tf.GradientTape() as tape:\n",
    "            real_fake_predictions, data_i_predictions = self.discriminator(combined_images)\n",
    "            d_real_fake_loss = self.loss_fn(real_fake_labels, real_fake_predictions)\n",
    "            d_data_i_loss = self.loss_fn(data_i_labels, data_i_predictions)\n",
    "            d_loss = d_real_fake_loss + d_data_i_loss\n",
    "        grads = tape.gradient(d_loss, self.discriminator.trainable_weights)\n",
    "        self.d_optimizer.apply_gradients(zip(grads, self.discriminator.trainable_weights))\n",
    "    \n",
    "        # Train generator\n",
    "        random_latent_vectors = self.seed_generator.normal(shape=(batch_size, self.latent_dim), dtype=tf.float32)\n",
    "        random_vector_labels = tf.concat([random_latent_vectors, one_hot_labels], axis=1)\n",
    "        misleading_real_fake_labels = tf.zeros((batch_size, 1))\n",
    "        target_data_i_labels = tf.ones((batch_size, 1))  # Fool the Data-I classifier\n",
    "        \n",
    "        with tf.GradientTape() as tape:\n",
    "            fake_images = self.generator(random_vector_labels)\n",
    "            fake_image_and_labels = tf.concat([fake_images, image_one_hot_labels], axis=-1)\n",
    "            fake_real_fake_predictions, fake_data_i_predictions = self.discriminator(fake_image_and_labels)\n",
    "            g_loss = self.loss_fn(misleading_real_fake_labels, fake_real_fake_predictions)\n",
    "            reg_loss = tf.reduce_mean((target_data_i_labels - fake_data_i_predictions) ** 2)\n",
    "            total_g_loss = g_loss + self.reg_lambda * reg_loss\n",
    "        grads = tape.gradient(total_g_loss, self.generator.trainable_weights)\n",
    "        self.g_optimizer.apply_gradients(zip(grads, self.generator.trainable_weights))\n",
    "        \n",
    "        # Update loss trackers\n",
    "        self.gen_loss_tracker.update_state(total_g_loss)\n",
    "        self.disc_loss_tracker.update_state(d_loss)\n",
    "        return {\n",
    "            \"loss\": self.gen_loss_tracker.result() + self.disc_loss_tracker.result(),\n",
    "            \"g_loss\": self.gen_loss_tracker.result(),\n",
    "            \"d_loss\": self.disc_loss_tracker.result(),\n",
    "        }"
   ]
  },
  {
   "cell_type": "markdown",
   "metadata": {
    "id": "-SJbTfPtqECG",
    "ExecuteTime": {
     "end_time": "2024-11-22T23:10:10.564855800Z",
     "start_time": "2024-11-22T23:06:19.064800900Z"
    }
   },
   "source": [
    "# Train"
   ]
  },
  {
   "cell_type": "code",
   "execution_count": 8,
   "outputs": [],
   "source": [
    "def interpolate_class(first_number, second_number, num_interpolation, interpolation_noise, trained_gen):\n",
    "    first_label = tf.keras.utils.to_categorical([first_number], num_classes)\n",
    "    second_label = tf.keras.utils.to_categorical([second_number], num_classes)\n",
    "    \n",
    "    first_label = tf.cast(first_label, tf.float32)\n",
    "    second_label = tf.cast(second_label, tf.float32)\n",
    "\n",
    "    percent_second_label = tf.linspace(0.0, 1.0, num_interpolation)[:, None]\n",
    "    percent_second_label = tf.cast(percent_second_label, tf.float32)\n",
    "    \n",
    "    interpolation_labels = (first_label * (1 - percent_second_label) + second_label * percent_second_label)\n",
    "\n",
    "    noise_and_labels = tf.concat([interpolation_noise, interpolation_labels], axis=1)\n",
    "\n",
    "    fake_images = trained_gen(noise_and_labels)\n",
    "\n",
    "    return fake_images\n",
    "\n",
    "\n",
    "def plot_generated_samples(first_class, second_class, num_interpolation, interpolation_noise, trained_gen):\n",
    "    generated_images = interpolate_class(first_class, second_class, num_interpolation, interpolation_noise, trained_gen)\n",
    "    generated_images = generated_images.numpy() * 255\n",
    "\n",
    "    plt.figure(figsize=(15, 3))\n",
    "    for i in range(num_interpolation):\n",
    "        plt.subplot(1, num_interpolation, i + 1)\n",
    "        plt.imshow(generated_images[i].squeeze(), cmap='gray')\n",
    "        plt.axis(\"off\")\n",
    "    plt.tight_layout()\n",
    "    plt.show()\n",
    "    \n",
    "\n",
    "def generate_and_save_images(generator, num_images, save_path):\n",
    "    all_labels = []\n",
    "    all_generated_images = []\n",
    "    \n",
    "    num_batches = int(np.ceil(num_images / batch_size))\n",
    "    \n",
    "    for batch_idx in range(num_batches):\n",
    "        batch_size_actual = min(batch_size, num_images - batch_idx * batch_size)\n",
    "\n",
    "        random_latent_vectors = tf.random.normal(shape=(batch_size_actual, latent_dim))\n",
    "        \n",
    "        random_labels = np.random.randint(0, num_classes, size=batch_size_actual)\n",
    "        one_hot_labels = tf.keras.utils.to_categorical(random_labels, num_classes=num_classes)\n",
    "        \n",
    "        noise_and_labels = tf.concat([random_latent_vectors, one_hot_labels], axis=1)\n",
    "        \n",
    "        generated_images = generator(noise_and_labels)\n",
    "        generated_images = generated_images.numpy() * 255\n",
    "        \n",
    "        all_labels.append(one_hot_labels)\n",
    "        all_generated_images.append(generated_images)\n",
    "\n",
    "    all_generated_images = np.concatenate(all_generated_images, axis=0)\n",
    "    all_labels = np.concatenate(all_labels, axis=0)\n",
    "    \n",
    "    np.savez_compressed(save_path, images=all_generated_images[:, :, :, 0], labels=all_labels)\n",
    "    print(f\"Generated {num_images} images and labels, and saved to {save_path}\")"
   ],
   "metadata": {
    "collapsed": false,
    "ExecuteTime": {
     "end_time": "2024-11-23T15:26:15.444150400Z",
     "start_time": "2024-11-23T15:26:15.428141300Z"
    }
   }
  },
  {
   "cell_type": "code",
   "execution_count": null,
   "outputs": [
    {
     "name": "stdout",
     "output_type": "stream",
     "text": [
      "Shape of training images: (60000, 28, 28, 1)\n",
      "Shape of training labels: (60000, 10)\n",
      "Epoch 1/20\n",
      "1875/1875 [==============================] - 25s 12ms/step - loss: 2.4250 - g_loss: 1.7553 - d_loss: 0.6698\n",
      "Epoch 2/20\n",
      "1875/1875 [==============================] - 22s 12ms/step - loss: 2.2807 - g_loss: 1.6625 - d_loss: 0.6182\n",
      "Epoch 3/20\n",
      "1875/1875 [==============================] - 22s 12ms/step - loss: 2.3327 - g_loss: 1.7494 - d_loss: 0.5833\n",
      "Epoch 4/20\n",
      "1875/1875 [==============================] - 22s 12ms/step - loss: 2.5364 - g_loss: 1.9672 - d_loss: 0.5692\n",
      "Epoch 5/20\n",
      "1875/1875 [==============================] - 22s 12ms/step - loss: 2.5153 - g_loss: 1.9491 - d_loss: 0.5663\n",
      "Epoch 6/20\n",
      "1875/1875 [==============================] - 23s 12ms/step - loss: 2.4292 - g_loss: 1.8282 - d_loss: 0.6010\n",
      "Epoch 7/20\n",
      "1875/1875 [==============================] - 22s 12ms/step - loss: 2.5082 - g_loss: 1.9321 - d_loss: 0.5761\n",
      "Epoch 8/20\n",
      "1875/1875 [==============================] - 22s 12ms/step - loss: 2.6152 - g_loss: 2.0338 - d_loss: 0.5814\n",
      "Epoch 9/20\n",
      "1875/1875 [==============================] - 22s 12ms/step - loss: 2.5940 - g_loss: 1.9936 - d_loss: 0.6005\n",
      "Epoch 10/20\n",
      "1875/1875 [==============================] - 22s 12ms/step - loss: 2.6553 - g_loss: 2.0783 - d_loss: 0.5770\n",
      "Epoch 11/20\n",
      "1875/1875 [==============================] - 22s 12ms/step - loss: 2.7057 - g_loss: 2.1339 - d_loss: 0.5718\n",
      "Epoch 12/20\n",
      "1875/1875 [==============================] - 22s 12ms/step - loss: 2.6997 - g_loss: 2.0914 - d_loss: 0.6083\n",
      "Epoch 13/20\n",
      "1875/1875 [==============================] - 22s 12ms/step - loss: 2.6422 - g_loss: 2.0114 - d_loss: 0.6309\n",
      "Epoch 14/20\n",
      "1875/1875 [==============================] - 22s 12ms/step - loss: 2.7387 - g_loss: 2.1572 - d_loss: 0.5815\n",
      "Epoch 15/20\n",
      "1875/1875 [==============================] - 22s 12ms/step - loss: 2.7423 - g_loss: 2.1323 - d_loss: 0.6100\n",
      "Epoch 16/20\n",
      "1875/1875 [==============================] - 22s 12ms/step - loss: 2.6995 - g_loss: 2.0807 - d_loss: 0.6188\n",
      "Epoch 17/20\n",
      "1875/1875 [==============================] - 22s 12ms/step - loss: 2.6954 - g_loss: 2.0279 - d_loss: 0.6676\n",
      "Epoch 18/20\n",
      "1875/1875 [==============================] - 23s 12ms/step - loss: 2.7800 - g_loss: 2.1241 - d_loss: 0.6559\n",
      "Epoch 19/20\n",
      "1875/1875 [==============================] - 22s 12ms/step - loss: 2.7967 - g_loss: 2.1836 - d_loss: 0.6131\n",
      "Epoch 20/20\n",
      "1875/1875 [==============================] - 22s 12ms/step - loss: 2.8028 - g_loss: 2.1488 - d_loss: 0.6540\n"
     ]
    },
    {
     "data": {
      "text/plain": "<Figure size 1500x300 with 4 Axes>",
      "image/png": "[encoded data removed]"
     },
     "metadata": {},
     "output_type": "display_data"
    },
    {
     "data": {
      "text/plain": "<Figure size 1500x300 with 4 Axes>",
      "image/png": "[encoded data removed]"
     },
     "metadata": {},
     "output_type": "display_data"
    },
    {
     "data": {
      "text/plain": "<Figure size 1500x300 with 4 Axes>",
      "image/png": "[encoded data removed]"
     },
     "metadata": {},
     "output_type": "display_data"
    },
    {
     "data": {
      "text/plain": "<Figure size 1500x300 with 4 Axes>",
      "image/png": "[encoded data removed]"
     },
     "metadata": {},
     "output_type": "display_data"
    },
    {
     "data": {
      "text/plain": "<Figure size 1500x300 with 4 Axes>",
      "image/png": "[encoded data removed]"
     },
     "metadata": {},
     "output_type": "display_data"
    },
    {
     "name": "stdout",
     "output_type": "stream",
     "text": [
      "Generated 10000 images and labels, and saved to ../Dataset/Reg_Extra_1.npz\n",
      "Shape of training images: (60000, 28, 28, 1)\n",
      "Shape of training labels: (60000, 10)\n",
      "Epoch 1/20\n",
      "1875/1875 [==============================] - 23s 12ms/step - loss: 2.4783 - g_loss: 1.8496 - d_loss: 0.6287\n",
      "Epoch 2/20\n",
      "1875/1875 [==============================] - 22s 12ms/step - loss: 2.6741 - g_loss: 1.9614 - d_loss: 0.7127\n",
      "Epoch 3/20\n",
      "1875/1875 [==============================] - 22s 12ms/step - loss: 2.8589 - g_loss: 2.1319 - d_loss: 0.7271\n",
      "Epoch 4/20\n",
      "1875/1875 [==============================] - 22s 12ms/step - loss: 2.8796 - g_loss: 2.0857 - d_loss: 0.7939\n",
      "Epoch 5/20\n",
      "1875/1875 [==============================] - 22s 12ms/step - loss: 2.8401 - g_loss: 2.0672 - d_loss: 0.7730\n",
      "Epoch 6/20\n",
      "1875/1875 [==============================] - 22s 12ms/step - loss: 2.7853 - g_loss: 2.0163 - d_loss: 0.7691\n",
      "Epoch 7/20\n",
      "1875/1875 [==============================] - 22s 12ms/step - loss: 2.8339 - g_loss: 2.0527 - d_loss: 0.7812\n",
      "Epoch 8/20\n",
      "1875/1875 [==============================] - 22s 12ms/step - loss: 2.8755 - g_loss: 2.0986 - d_loss: 0.7768\n",
      "Epoch 9/20\n",
      "1875/1875 [==============================] - 22s 12ms/step - loss: 2.7347 - g_loss: 1.9788 - d_loss: 0.7558\n",
      "Epoch 10/20\n",
      "1875/1875 [==============================] - 22s 12ms/step - loss: 2.8303 - g_loss: 2.0672 - d_loss: 0.7631\n",
      "Epoch 11/20\n",
      "1875/1875 [==============================] - 22s 12ms/step - loss: 2.8699 - g_loss: 2.0998 - d_loss: 0.7700\n",
      "Epoch 12/20\n",
      "1875/1875 [==============================] - 22s 12ms/step - loss: 2.9301 - g_loss: 2.1545 - d_loss: 0.7756\n",
      "Epoch 13/20\n",
      "  69/1875 [>.............................] - ETA: 21s - loss: 5.5698 - g_loss: 2.9764 - d_loss: 2.5933"
     ]
    }
   ],
   "source": [
    "def train_iteration(iteration):\n",
    "    # Dataset\n",
    "    train_dataset = prepare_data(iteration=iteration, \n",
    "                                 main_path=\"../Dataset/mnist.npz\", \n",
    "                                 generated_path=f\"../Dataset/Reg_Extra_{iteration}.npz\", \n",
    "                                 replace=True)\n",
    "    \n",
    "    # Model\n",
    "    reg_lambda = 5.0\n",
    "    discriminator, generator = get_models()\n",
    "    cond_gan = ConditionalGAN(discriminator=discriminator, \n",
    "                              generator=generator, \n",
    "                              latent_dim=latent_dim, \n",
    "                              reg_lambda=reg_lambda)\n",
    "    cond_gan.compile(d_optimizer=opt_d, g_optimizer=opt_g, loss_fn=los)\n",
    "    reg_lambda *= 1.5\n",
    "    \n",
    "    # Train\n",
    "    cond_gan.fit(train_dataset, epochs=num_epochs, batch_size=batch_size, verbose=1)\n",
    "    \n",
    "    # Evaluation\n",
    "    trained_gen = cond_gan.generator\n",
    "    interpolation_noise = tf.random.normal(shape=(1, latent_dim))\n",
    "    interpolation_noise = tf.repeat(interpolation_noise, repeats=4, axis=0)\n",
    "    plot_generated_samples(0, 1, 4, interpolation_noise, trained_gen)\n",
    "    plot_generated_samples(2, 3, 4, interpolation_noise, trained_gen)\n",
    "    plot_generated_samples(4, 5, 4, interpolation_noise, trained_gen)\n",
    "    plot_generated_samples(6, 7, 4, interpolation_noise, trained_gen)\n",
    "    plot_generated_samples(8, 9, 4, interpolation_noise, trained_gen)\n",
    "    \n",
    "    # Generation\n",
    "    generate_and_save_images(trained_gen, 10000*(iteration+1), f\"../Dataset/Reg_Extra_{iteration+1}.npz\")\n",
    "    \n",
    "for i in range(7):\n",
    "    train_iteration(i)"
   ],
   "metadata": {
    "collapsed": false,
    "ExecuteTime": {
     "start_time": "2024-11-23T15:26:15.444150400Z"
    }
   }
  },
  {
   "cell_type": "code",
   "execution_count": null,
   "outputs": [],
   "source": [],
   "metadata": {
    "collapsed": false
   }
  }
 ],
 "metadata": {
  "accelerator": "GPU",
  "colab": {
   "provenance": []
  },
  "kernelspec": {
   "display_name": "Python 3",
   "language": "python",
   "name": "python3"
  },
  "language_info": {
   "codemirror_mode": {
    "name": "ipython",
    "version": 3
   },
   "file_extension": ".py",
   "mimetype": "text/x-python",
   "name": "python",
   "nbconvert_exporter": "python",
   "pygments_lexer": "ipython3",
   "version": "3.7.0"
  }
 },
 "nbformat": 4,
 "nbformat_minor": 0
}
