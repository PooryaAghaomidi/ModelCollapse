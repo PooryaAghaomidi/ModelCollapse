{
 "cells": [
  {
   "cell_type": "code",
   "id": "initial_id",
   "metadata": {
    "collapsed": true,
    "ExecuteTime": {
     "end_time": "2025-02-20T18:40:11.776210Z",
     "start_time": "2025-02-20T18:40:11.587641Z"
    }
   },
   "source": [
    "import numpy as np\n",
    "import pandas as pd\n",
    "from tqdm import tqdm\n",
    "import tensorflow as tf\n",
    "import matplotlib.pyplot as plt\n",
    "from gudhi.tensorflow import CubicalLayer"
   ],
   "outputs": [],
   "execution_count": 17
  },
  {
   "metadata": {
    "ExecuteTime": {
     "end_time": "2025-02-20T18:48:19.120034Z",
     "start_time": "2025-02-20T18:48:17.929438Z"
    }
   },
   "cell_type": "code",
   "source": [
    "I = np.array(pd.read_csv('../Dataset/mnist_test.csv', header=None, sep=','), dtype=np.float32)\n",
    "\n",
    "idx = np.argwhere(I[:, 0] == 8)\n",
    "image = np.reshape(-I[idx[8], 1:], [28, 28])\n",
    "\n",
    "image = np.array((image - image.min()) / (image.max() - image.min()))\n",
    "\n",
    "print(image.shape)\n",
    "plt.imshow(image)\n",
    "plt.show()"
   ],
   "id": "bff96fda2f6017b1",
   "outputs": [
    {
     "name": "stdout",
     "output_type": "stream",
     "text": [
      "(28, 28)\n"
     ]
    },
    {
     "data": {
      "text/plain": [
       "<Figure size 640x480 with 1 Axes>"
      ],
      "image/png": "[encoded data removed]"
     },
     "metadata": {},
     "output_type": "display_data"
    }
   ],
   "execution_count": 22
  },
  {
   "metadata": {
    "ExecuteTime": {
     "end_time": "2025-02-20T18:51:07.124763Z",
     "start_time": "2025-02-20T18:50:56.216594Z"
    }
   },
   "cell_type": "code",
   "source": [
    "I = np.array(pd.read_csv('../Dataset/mnist_test.csv', header=None, sep=','), dtype=np.float32)\n",
    "\n",
    "idx = np.argwhere(I[:, 0] == 8)\n",
    "image = np.reshape(-I[idx[8], 1:], [28, 28])\n",
    "\n",
    "image = np.array((image - image.min()) / (image.max() - image.min()))\n",
    "\n",
    "print(image.shape)\n",
    "plt.imshow(image)\n",
    "plt.show()\n",
    "\n",
    "X = tf.Variable(initial_value=np.array(image, dtype=np.float32), trainable=True)\n",
    "layer = CubicalLayer(homology_dimensions=[0])\n",
    "\n",
    "lr = tf.keras.optimizers.schedules.InverseTimeDecay(initial_learning_rate=1e-3, decay_steps=10, decay_rate=.01)\n",
    "optimizer = tf.keras.optimizers.SGD(learning_rate=lr)\n",
    "\n",
    "losses, dgms = [], []\n",
    "for epoch in tqdm(range(500+1)):\n",
    "    with tf.GradientTape() as tape:\n",
    "        dgm = layer.call(X)[0][0]\n",
    "        persistence_loss = 10*tf.math.reduce_sum(tf.abs(dgm[:,1]-dgm[:,0]))\n",
    "        loss = persistence_loss\n",
    "        \n",
    "    gradients = tape.gradient(loss, [X])\n",
    "    \n",
    "    np.random.seed(epoch)\n",
    "    gradients[0] = gradients[0] + np.random.normal(loc=0., scale=.001, size=gradients[0].shape)\n",
    "    \n",
    "    optimizer.apply_gradients(zip(gradients, [X]))\n",
    "    losses.append(loss.numpy())\n",
    "    dgms.append(dgm)"
   ],
   "id": "9009f0d9d5b1e9ab",
   "outputs": [
    {
     "name": "stderr",
     "output_type": "stream",
     "text": [
      "100%|██████████| 501/501 [00:10<00:00, 46.06it/s]\n"
     ]
    }
   ],
   "execution_count": 23
  }
 ],
 "metadata": {
  "kernelspec": {
   "display_name": "Python 3",
   "language": "python",
   "name": "python3"
  },
  "language_info": {
   "codemirror_mode": {
    "name": "ipython",
    "version": 2
   },
   "file_extension": ".py",
   "mimetype": "text/x-python",
   "name": "python",
   "nbconvert_exporter": "python",
   "pygments_lexer": "ipython2",
   "version": "2.7.6"
  }
 },
 "nbformat": 4,
 "nbformat_minor": 5
}
