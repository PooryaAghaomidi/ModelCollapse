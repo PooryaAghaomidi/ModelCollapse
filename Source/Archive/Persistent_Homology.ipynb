{
 "cells": [
  {
   "metadata": {},
   "cell_type": "markdown",
   "source": "# *GTDA*",
   "id": "786b6ab7dc447482"
  },
  {
   "metadata": {
    "ExecuteTime": {
     "end_time": "2025-02-17T10:36:47.800534Z",
     "start_time": "2025-02-17T10:36:40.342451Z"
    }
   },
   "cell_type": "code",
   "source": [
    "import numpy as np\n",
    "import matplotlib.pyplot as plt\n",
    "from gtda.homology import CubicalPersistence\n",
    "\n",
    "with np.load(\"../Dataset/mnist.npz\") as data:\n",
    "    x_train, y_train = data['x_train'], data['y_train']\n",
    "\n",
    "x_train = x_train.reshape(-1, 28, 28) / 255.0\n",
    "\n",
    "cp = CubicalPersistence(homology_dimensions=[0, 1], n_jobs=-1)\n",
    "\n",
    "batch_size = 1000\n",
    "num_batches = int(np.ceil(len(x_train) / batch_size))\n",
    "\n",
    "all_diagrams = []\n",
    "\n",
    "for i in range(num_batches):\n",
    "    print(f\"Processing batch {i+1}/{num_batches}\")\n",
    "    start_idx = i * batch_size\n",
    "    end_idx = min((i + 1) * batch_size, len(x_train))\n",
    "    batch_images = x_train[start_idx:end_idx]\n",
    "\n",
    "    diagrams = cp.fit_transform(batch_images)\n",
    "    all_diagrams.extend(diagrams)\n",
    "\n",
    "H0_all = []\n",
    "H1_all = []\n",
    "\n",
    "for diag in all_diagrams:\n",
    "    H0_all.append(diag[diag[:, 2] == 0][:, :2])  # H0 features\n",
    "    H1_all.append(diag[diag[:, 2] == 1][:, :2])  # H1 features\n",
    "\n",
    "# Concatenate all H0 and H1 features into single arrays\n",
    "H0_all = np.concatenate(H0_all)\n",
    "H1_all = np.concatenate(H1_all)\n",
    "\n",
    "# Plot settings\n",
    "plt.figure(figsize=(10, 5))\n",
    "\n",
    "# H0 Diagram\n",
    "plt.subplot(1, 2, 1)\n",
    "plt.scatter(H0_all[:, 0], H0_all[:, 1], label='H0', color='blue', alpha=0.5)\n",
    "plt.plot([0, 1], [0, 1], 'k--', linewidth=0.5)  # Diagonal\n",
    "plt.title('Aggregated H0 Persistence Diagram')\n",
    "plt.xlabel('Birth')\n",
    "plt.ylabel('Death')\n",
    "plt.grid(True)\n",
    "\n",
    "# H1 Diagram\n",
    "plt.subplot(1, 2, 2)\n",
    "plt.scatter(H1_all[:, 0], H1_all[:, 1], label='H1', color='orange', alpha=0.5)\n",
    "plt.plot([0, 1], [0, 1], 'k--', linewidth=0.5)\n",
    "plt.title('Aggregated H1 Persistence Diagram')\n",
    "plt.xlabel('Birth')\n",
    "plt.ylabel('Death')\n",
    "plt.grid(True)\n",
    "\n",
    "plt.tight_layout()\n",
    "plt.show()"
   ],
   "id": "c58fc69a6aefcfd3",
   "outputs": [
    {
     "name": "stderr",
     "output_type": "stream",
     "text": [
      "\n",
      "KeyboardInterrupt\n",
      "\n"
     ]
    }
   ],
   "execution_count": 1
  },
  {
   "metadata": {
    "ExecuteTime": {
     "end_time": "2025-02-17T10:36:47.800534Z",
     "start_time": "2025-02-17T10:36:47.800534Z"
    }
   },
   "cell_type": "code",
   "source": [
    "import numpy as np\n",
    "import matplotlib.pyplot as plt\n",
    "from gtda.homology import CubicalPersistence\n",
    "\n",
    "data = np.load('../Dataset/mnist.npz')\n",
    "x_train = data['x_train']\n",
    "y_train = data['y_train']\n",
    "\n",
    "x_train = x_train.reshape(-1, 28, 28) / 255.0\n",
    "\n",
    "digits = [0, 1, 2]\n",
    "mask = np.isin(y_train, digits)\n",
    "x_filtered = x_train[mask]\n",
    "y_filtered = y_train[mask]\n",
    "\n",
    "cp = CubicalPersistence(homology_dimensions=[1], n_jobs=-1)\n",
    "\n",
    "batch_size = 1000\n",
    "num_batches = int(np.ceil(len(x_filtered) / batch_size))\n",
    "\n",
    "H1_all = []\n",
    "\n",
    "for i in range(num_batches):\n",
    "    print(f\"Processing batch {i+1}/{num_batches}\")\n",
    "    start_idx = i * batch_size\n",
    "    end_idx = min((i + 1) * batch_size, len(x_filtered))\n",
    "    batch_images = x_filtered[start_idx:end_idx]\n",
    "\n",
    "    diagrams = cp.fit_transform(batch_images)\n",
    "    H1_all.extend(diagrams)\n",
    "\n",
    "H1_all = [diag[diag[:, 2] == 1][:, :2] for diag in H1_all]\n",
    "\n",
    "H1_by_digit = {digit: [] for digit in digits}\n",
    "for i, diag in enumerate(H1_all):\n",
    "    digit = y_filtered[i]\n",
    "    H1_by_digit[digit].append(diag)\n",
    "\n",
    "H1_by_digit = {digit: np.concatenate(diags) for digit, diags in H1_by_digit.items()}\n",
    "\n",
    "plt.figure(figsize=(15, 5))\n",
    "\n",
    "for i, digit in enumerate(digits):\n",
    "    plt.subplot(1, 3, i + 1)\n",
    "    plt.scatter(H1_by_digit[digit][:, 0], H1_by_digit[digit][:, 1], label=f'Digit {digit}', alpha=0.5)\n",
    "    plt.plot([0, 1], [0, 1], 'k--', linewidth=0.5)  # Diagonal\n",
    "    plt.title(f'H1 Persistence Diagram (Digit {digit})')\n",
    "    plt.xlabel('Birth')\n",
    "    plt.ylabel('Death')\n",
    "    plt.grid(True)\n",
    "\n",
    "plt.tight_layout()\n",
    "plt.show()"
   ],
   "id": "40bf82c6383a72de",
   "outputs": [],
   "execution_count": null
  },
  {
   "metadata": {},
   "cell_type": "markdown",
   "source": "# *Ripser*",
   "id": "47c8c1a71a2ba04d"
  },
  {
   "metadata": {
    "ExecuteTime": {
     "end_time": "2025-02-17T10:36:47.800534Z",
     "start_time": "2025-02-17T10:36:47.800534Z"
    }
   },
   "cell_type": "code",
   "source": [
    "import random\n",
    "import numpy as np\n",
    "from ripser import ripser\n",
    "from persim import plot_diagrams\n",
    "import tensorflow as tf\n",
    "\n",
    "default_plot = True\n",
    "\n",
    "data = np.load(\"../Dataset/mnist.npz\")\n",
    "X_train = data[\"x_train\"]\n",
    "y_train = data[\"y_train\"]\n",
    "\n",
    "X_train = X_train.reshape(X_train.shape[0], -1)\n",
    "\n",
    "def compute_persistence_for_digit(digit, num_samples=300):\n",
    "    indices = np.where(y_train == digit)[0]\n",
    "    selected_indices = random.sample(list(indices), num_samples)\n",
    "    subset = X_train[selected_indices]  # No PCA, full 784D\n",
    "    tf_tensor = tf.convert_to_tensor(subset)\n",
    "    return ripser(tf_tensor, maxdim=2)['dgms']\n",
    "\n",
    "digits_to_compare = [0, 1, 2]\n",
    "\n",
    "if default_plot:\n",
    "    for i, digit in enumerate(digits_to_compare):\n",
    "        dgms1 = compute_persistence_for_digit(digit)\n",
    "        plot_diagrams(dgms1, show=True)\n",
    "else:\n",
    "    plt.figure(figsize=(12, 4))\n",
    "    \n",
    "    for i, digit in enumerate(digits_to_compare):\n",
    "        dgms = compute_persistence_for_digit(digit)\n",
    "        plt.subplot(1, len(digits_to_compare), i + 1)\n",
    "        for j, dgm in enumerate(dgms):\n",
    "            plt.scatter(dgm[:, 0], dgm[:, 1])\n",
    "            plt.plot([0, np.max(dgm)], [0, np.max(dgm)], 'k--')\n",
    "            plt.xlabel(\"Birth\")\n",
    "            plt.ylabel(\"Death\")\n",
    "            plt.title(f\"Digit {digit}, $H_{j}$\")\n",
    "    \n",
    "    plt.show()"
   ],
   "id": "246f25b79f28b6f2",
   "outputs": [],
   "execution_count": null
  },
  {
   "metadata": {
    "ExecuteTime": {
     "end_time": "2025-02-17T10:36:47.800534Z",
     "start_time": "2025-02-17T10:36:47.800534Z"
    }
   },
   "cell_type": "code",
   "source": [
    "default_plot = True\n",
    "\n",
    "data = np.load(\"../Dataset/NoReg_Extra_6.npz\")\n",
    "X_train = data[\"images\"]\n",
    "y_train = data[\"labels\"]\n",
    "\n",
    "X_train = X_train.reshape(X_train.shape[0], -1)\n",
    "y_train = np.argmax(y_train, axis=1)\n",
    "\n",
    "def compute_persistence_for_digit(digit, num_samples=300):\n",
    "    indices = np.where(y_train == digit)[0]\n",
    "    selected_indices = random.sample(list(indices), num_samples)\n",
    "    subset = X_train[selected_indices]\n",
    "    return ripser(subset, maxdim=2)['dgms']\n",
    "\n",
    "digits_to_compare = [0, 1, 2]\n",
    "\n",
    "if default_plot:\n",
    "    for i, digit in enumerate(digits_to_compare):\n",
    "        dgms2 = compute_persistence_for_digit(digit)\n",
    "        plot_diagrams(dgms2, show=True)\n",
    "else:\n",
    "    plt.figure(figsize=(12, 4))\n",
    "    \n",
    "    for i, digit in enumerate(digits_to_compare):\n",
    "        dgms = compute_persistence_for_digit(digit)\n",
    "        plt.subplot(1, len(digits_to_compare), i + 1)\n",
    "        for j, dgm in enumerate(dgms):\n",
    "            plt.scatter(dgm[:, 0], dgm[:, 1])\n",
    "            plt.plot([0, np.max(dgm)], [0, np.max(dgm)], 'k--')\n",
    "            plt.xlabel(\"Birth\")\n",
    "            plt.ylabel(\"Death\")\n",
    "            plt.title(f\"Digit {digit}, $H_{j}$\")\n",
    "    \n",
    "    plt.show()"
   ],
   "id": "2ac0de989fd0af46",
   "outputs": [],
   "execution_count": null
  },
  {
   "metadata": {},
   "cell_type": "code",
   "source": [
    "from gudhi.wasserstein import wasserstein_distance\n",
    "\n",
    "wasserstein_dist = wasserstein_distance(dgms1[2], dgms2[2], order=2)\n",
    "wasserstein_dist"
   ],
   "id": "71b8da7488cdd38b",
   "outputs": [],
   "execution_count": null
  },
  {
   "metadata": {},
   "cell_type": "markdown",
   "source": "# *differentiability*",
   "id": "585922d51621b500"
  },
  {
   "metadata": {
    "ExecuteTime": {
     "end_time": "2025-02-22T00:40:53.606563Z",
     "start_time": "2025-02-22T00:39:55.820231Z"
    }
   },
   "cell_type": "code",
   "source": [
    "import numpy as np\n",
    "import tensorflow as tf\n",
    "import matplotlib.pyplot as plt\n",
    "from gudhi.tensorflow import CubicalLayer\n",
    "\n",
    "data = np.load(\"../Dataset/mnist.npz\")\n",
    "X_train = data[\"x_train\"]\n",
    "y_train = data[\"y_train\"]\n",
    "\n",
    "idicies = np.where(y_train == 8)[0]\n",
    "X_train = X_train[idicies][:32]\n",
    "\n",
    "X_train = X_train.astype(np.float32) / 255.0\n",
    "\n",
    "X_train_tf = tf.convert_to_tensor(X_train.reshape((32, 28, 28, 1)))\n",
    "cubical_layer = CubicalLayer(homology_dimensions=[0, 1, 2])\n",
    "persistence_diagrams_1 = cubical_layer(X_train_tf)\n",
    "\n",
    "plt.scatter(persistence_diagrams_1[1][0].numpy()[:, 0], persistence_diagrams_1[1][0].numpy()[:, 1])\n",
    "plt.scatter(persistence_diagrams_1[2][0].numpy()[:, 0], persistence_diagrams_1[2][0].numpy()[:, 1])\n",
    "plt.show()"
   ],
   "id": "3d2db91852ef1e15",
   "outputs": [
    {
     "data": {
      "text/plain": [
       "<Figure size 640x480 with 1 Axes>"
      ],
      "image/png": "[encoded data removed]"
     },
     "metadata": {},
     "output_type": "display_data"
    }
   ],
   "execution_count": 1
  },
  {
   "metadata": {
    "ExecuteTime": {
     "end_time": "2025-02-21T17:19:21.620074Z",
     "start_time": "2025-02-21T17:19:18.959973Z"
    }
   },
   "cell_type": "code",
   "source": [
    "data = np.load(\"../Dataset/NoReg_Extra_6.npz\")\n",
    "X_train = data[\"images\"]\n",
    "y_train = data[\"labels\"]\n",
    "\n",
    "y_train = tf.argmax(y_train, axis=1)\n",
    "idicies = np.where(y_train == 8)[0]\n",
    "X_train = X_train[idicies][:32]\n",
    "\n",
    "X_real = (X_train - tf.reduce_min(X_train)) / (tf.reduce_max(X_train) - tf.reduce_min(X_train))\n",
    "\n",
    "X_train_tf = tf.convert_to_tensor(X_real)\n",
    "persistence_diagrams_2 = cubical_layer(X_train_tf)\n",
    "\n",
    "plt.scatter(persistence_diagrams_2[1][0].numpy()[:, 0], persistence_diagrams_2[1][0].numpy()[:, 1])\n",
    "plt.scatter(persistence_diagrams_2[2][0].numpy()[:, 0], persistence_diagrams_2[2][0].numpy()[:, 1])\n",
    "plt.show()"
   ],
   "id": "fe6a22ae06917e04",
   "outputs": [
    {
     "data": {
      "text/plain": [
       "<Figure size 640x480 with 1 Axes>"
      ],
      "image/png": "[encoded data removed]"
     },
     "metadata": {},
     "output_type": "display_data"
    }
   ],
   "execution_count": 64
  },
  {
   "metadata": {
    "ExecuteTime": {
     "end_time": "2025-02-21T18:09:51.088105Z",
     "start_time": "2025-02-21T18:09:51.060098Z"
    }
   },
   "cell_type": "code",
   "source": [
    "import tensorflow as tf\n",
    "\n",
    "class PersistenceSetLoss(tf.keras.losses.Loss):\n",
    "    def __init__(self, gamma=1.0, mu=0.1, max_value=2000000, scale=0.25e-5, **kwargs):\n",
    "        \"\"\"\n",
    "        Custom loss function for comparing persistence diagrams of different sizes.\n",
    "        \n",
    "        Parameters:\n",
    "        - gamma: Controls how much long-lived features are weighted.\n",
    "        - mu: Controls how much we penalize differences in diagram sizes.\n",
    "        - max_value: Maximum value for the final loss function.\n",
    "        - scale: The scale that multiplies on the final loss value.\n",
    "        \"\"\"\n",
    "        super().__init__(**kwargs)\n",
    "        self.gamma = gamma\n",
    "        self.mu = mu\n",
    "        self.max_value = max_value\n",
    "        self.scale = scale\n",
    "        \n",
    "    def call(self, P, Q):\n",
    "        \"\"\"\n",
    "        Computes the loss between two persistence diagrams P and Q.\n",
    "        \n",
    "        P: Tensor -> Persistence diagram with m points (birth, death)\n",
    "        Q: Tensor -> Persistence diagram with n points (birth, death)\n",
    "        \"\"\"\n",
    "        \n",
    "        P = tf.concat(P, axis=0)\n",
    "        P = tf.reshape(P, (-1, 2))\n",
    "        \n",
    "        Q = tf.concat(Q, axis=0)\n",
    "        Q = tf.reshape(Q, (-1, 2))\n",
    "        \n",
    "        P_persistence = P[:, 1] - P[:, 0]\n",
    "        Q_persistence = Q[:, 1] - Q[:, 0]\n",
    "\n",
    "        def feature_transform(persistence):\n",
    "            exp_term = tf.exp(-self.gamma * persistence)\n",
    "            return tf.stack([exp_term, persistence * exp_term], axis=-1)\n",
    "\n",
    "        P_features = feature_transform(P_persistence)\n",
    "        Q_features = feature_transform(Q_persistence)\n",
    "\n",
    "        P_sum = tf.reduce_sum(P_features, axis=0)\n",
    "        Q_sum = tf.reduce_sum(Q_features, axis=0)\n",
    "\n",
    "        feature_distance = tf.reduce_sum(tf.square(P_sum - Q_sum))\n",
    "\n",
    "        size_difference = tf.cast(tf.shape(P)[0] - tf.shape(Q)[0], tf.float32)\n",
    "        size_penalty = self.mu * tf.square(size_difference)        \n",
    "\n",
    "        return tf.clip_by_value(feature_distance + size_penalty, 0.0, self.max_value) * self.scale\n",
    "        \n",
    "        \n",
    "def call_cubical_layer(output):    \n",
    "    flattened_output = []\n",
    "    for tuple_ in output:\n",
    "        flattened_output.extend(tuple_[0])\n",
    "    \n",
    "    return flattened_output\n",
    "\n",
    "\n",
    "loss_fn = PersistenceSetLoss()"
   ],
   "id": "a32cd8c999669ba3",
   "outputs": [],
   "execution_count": 88
  },
  {
   "metadata": {
    "ExecuteTime": {
     "end_time": "2025-02-21T18:10:46.484560Z",
     "start_time": "2025-02-21T18:09:51.722035Z"
    }
   },
   "cell_type": "code",
   "source": [
    "cubical_layer = CubicalLayer(homology_dimensions=[0, 1, 2])\n",
    "\n",
    "for i in range(10):\n",
    "    # real\n",
    "    data = np.load(\"../Dataset/mnist.npz\")\n",
    "    X_train = data[\"x_train\"]\n",
    "    y_train = data[\"y_train\"]\n",
    "    \n",
    "    idicies = np.where(y_train == i)[0]\n",
    "    X_train = X_train[idicies][:32]\n",
    "    X_train = (X_train - tf.reduce_min(X_train)) / (tf.reduce_max(X_train) - tf.reduce_min(X_train))\n",
    "    X_train_tf = tf.convert_to_tensor(X_train)\n",
    "    \n",
    "    persistence_diagrams_1 = cubical_layer(X_train_tf)\n",
    "    \n",
    "    # fake\n",
    "    data = np.load(\"../Dataset/NoReg_Extra_6.npz\")\n",
    "    X_train = data[\"images\"]\n",
    "    y_train = data[\"labels\"]\n",
    "    \n",
    "    y_train = tf.argmax(y_train, axis=1)\n",
    "    idicies = np.where(y_train == i)[0]\n",
    "    X_train = X_train[idicies][:32]\n",
    "    X_real = (X_train - tf.reduce_min(X_train)) / (tf.reduce_max(X_train) - tf.reduce_min(X_train))\n",
    "    X_train_tf = tf.convert_to_tensor(X_real)\n",
    "    \n",
    "    persistence_diagrams_2 = cubical_layer(X_train_tf)\n",
    "    \n",
    "    # loss\n",
    "    loss_value = loss_fn(call_cubical_layer(persistence_diagrams_1), call_cubical_layer(persistence_diagrams_2))\n",
    "    print(f\"Loss value for number {i}:\", loss_value.numpy())"
   ],
   "id": "8bced4eae44f6e25",
   "outputs": [
    {
     "name": "stdout",
     "output_type": "stream",
     "text": [
      "Loss value for number 0: 1.9798956\n",
      "Loss value for number 1: 1.7125789\n",
      "Loss value for number 2: 2.5005445\n",
      "Loss value for number 3: 2.7119546\n",
      "Loss value for number 4: 1.8049179\n",
      "Loss value for number 5: 2.3715496\n",
      "Loss value for number 6: 2.052973\n",
      "Loss value for number 7: 2.6846914\n",
      "Loss value for number 8: 1.7677662\n",
      "Loss value for number 9: 1.4169219\n"
     ]
    }
   ],
   "execution_count": 89
  },
  {
   "metadata": {
    "ExecuteTime": {
     "end_time": "2025-02-21T16:59:50.672100Z",
     "start_time": "2025-02-21T16:59:50.609581Z"
    }
   },
   "cell_type": "code",
   "source": [
    "def persistence_loss(pd1, pd2, lambdaa=1.0):\n",
    "    # Compute persistence for each point\n",
    "    pers1 = pd1[:, 1] - pd1[:, 0]  # shape (m,)\n",
    "    pers2 = pd2[:, 1] - pd2[:, 0]  # shape (n,)\n",
    "    \n",
    "    # Pairwise L2 distances (m, n)\n",
    "    pd1_exp = tf.expand_dims(pd1, 1)\n",
    "    pd2_exp = tf.expand_dims(pd2, 0)\n",
    "    pairwise_dist = tf.norm(pd1_exp - pd2_exp, axis=-1)\n",
    "    \n",
    "    # PWCD terms\n",
    "    min_dist_pd1_to_pd2 = tf.reduce_min(pairwise_dist, axis=1)\n",
    "    term1 = tf.reduce_sum(min_dist_pd1_to_pd2 * pers1) / tf.cast(tf.shape(pd1)[0], tf.float32)\n",
    "    \n",
    "    min_dist_pd2_to_pd1 = tf.reduce_min(tf.transpose(pairwise_dist), axis=1)\n",
    "    term2 = tf.reduce_sum(min_dist_pd2_to_pd1 * pers2) / tf.cast(tf.shape(pd2)[0], tf.float32)\n",
    "    \n",
    "    pwcd = term1 + term2\n",
    "    \n",
    "    # Total persistence difference\n",
    "    total_pers1 = tf.reduce_sum(pers1)\n",
    "    total_pers2 = tf.reduce_sum(pers2)\n",
    "    tpd = tf.abs(total_pers1 - total_pers2)\n",
    "    \n",
    "    return pwcd + lambdaa * tpd\n",
    "\n",
    "\n",
    "a = persistence_loss(persistence_diagrams_1[1][0], persistence_diagrams_2[1][0])\n",
    "a.numpy()"
   ],
   "id": "cc4c3954fe923aed",
   "outputs": [
    {
     "data": {
      "text/plain": [
       "67.764595"
      ]
     },
     "execution_count": 53,
     "metadata": {},
     "output_type": "execute_result"
    }
   ],
   "execution_count": 53
  },
  {
   "metadata": {
    "ExecuteTime": {
     "end_time": "2025-02-17T10:36:47.816166Z",
     "start_time": "2025-02-17T10:36:47.816166Z"
    }
   },
   "cell_type": "code",
   "source": [
    "data = np.load(\"../Dataset/NoReg_Extra_6.npz\")\n",
    "X_train = data[\"images\"]\n",
    "y_train = data[\"labels\"]\n",
    "\n",
    "y_train = tf.argmax(y_train, axis=1)\n",
    "X_real = (X_train - tf.reduce_min(X_train)) / (tf.reduce_max(X_train) - tf.reduce_min(X_train))\n",
    "\n",
    "cubical_layer = CubicalLayer(homology_dimensions=[0, 1, 2])\n",
    "digits = tf.constant([0, 1, 2, 3, 4, 5, 6, 7, 8, 9], dtype=tf.int64)\n",
    "\n",
    "hps = []\n",
    "ph_losses = 0\n",
    "for i, digit in enumerate(digits):\n",
    "    indices = tf.where(y_train == digit)[:, 0]\n",
    "    \n",
    "    real_subset = tf.gather(X_real, indices)\n",
    "    real_dgms = cubical_layer(real_subset)\n",
    "    real_concat = tf.concat([real_dgms[1][0], real_dgms[2][0]], axis=0)\n",
    "    hps.append(real_concat)"
   ],
   "id": "8e824bdadab53587",
   "outputs": [],
   "execution_count": null
  },
  {
   "metadata": {
    "ExecuteTime": {
     "end_time": "2025-02-17T10:36:47.831793Z",
     "start_time": "2025-02-17T10:36:47.816166Z"
    }
   },
   "cell_type": "code",
   "source": [
    "def sliced_wasserstein_distance(PD1, PD2, num_projections=50):\n",
    "    angles = tf.random.uniform([num_projections, 2], minval=-1, maxval=1)\n",
    "    angles /= tf.norm(angles, axis=-1, keepdims=True)  # Normalize to unit vectors\n",
    "    \n",
    "    proj1 = tf.linalg.matmul(PD1, tf.transpose(angles))  # Shape [m, num_projections]\n",
    "    proj2 = tf.linalg.matmul(PD2, tf.transpose(angles))  # Shape [n, num_projections]\n",
    "    \n",
    "    proj1 = tf.sort(proj1, axis=0)  # Shape [m, num_projections]\n",
    "    proj2 = tf.sort(proj2, axis=0)  # Shape [n, num_projections]\n",
    "    \n",
    "    # Resample both to a common size (e.g., max(m, n))\n",
    "    target_size = tf.maximum(tf.shape(proj1)[0], tf.shape(proj2)[0])\n",
    "    proj1 = tf.image.resize(proj1[None, :, :], [target_size, num_projections])[0]\n",
    "    proj2 = tf.image.resize(proj2[None, :, :], [target_size, num_projections])[0]\n",
    "\n",
    "    return tf.reduce_mean(tf.abs(proj1 - proj2))\n",
    "\n",
    "dist_swd = sliced_wasserstein_distance(hps[1], hps[8])\n",
    "print(dist_swd)"
   ],
   "id": "e2962eba59b2b849",
   "outputs": [],
   "execution_count": null
  },
  {
   "metadata": {
    "ExecuteTime": {
     "end_time": "2025-02-17T10:36:47.831793Z",
     "start_time": "2025-02-17T10:36:47.831793Z"
    }
   },
   "cell_type": "code",
   "source": "dist_swd / len(digits)",
   "id": "61c0acc9606f431b",
   "outputs": [],
   "execution_count": null
  },
  {
   "metadata": {},
   "cell_type": "code",
   "outputs": [],
   "execution_count": null,
   "source": [
    "def Rips(DX, mel, dim):\n",
    "    rc = gd.RipsComplex(distance_matrix=DX, max_edge_length=mel)\n",
    "    st = rc.create_simplex_tree(max_dimension=dim + 1)\n",
    "    dgm = st.persistence()\n",
    "    indices = st.persistence_pairs()\n",
    "    return indices\n",
    "    \n",
    "\n",
    "class RipsModel(tf.keras.Model):\n",
    "    def __init__(self, X, mel=12, dim=1, card=50):\n",
    "        super(RipsModel, self).__init__()\n",
    "        self.X = X\n",
    "        self.mel = mel\n",
    "        self.dim = dim\n",
    "        self.card = card\n",
    "\n",
    "    def call(self):\n",
    "        m, d, c = self.mel, self.dim, self.card\n",
    "\n",
    "        # Compute distance matrix\n",
    "        DX = tfa.losses.metric_learning.pairwise_distance(self.X)\n",
    "        DXX = tf.reshape(DX, [1, DX.shape[0], DX.shape[1]])\n",
    "\n",
    "        # Turn numpy function into tensorflow function\n",
    "        RipsTF = lambda DX: tf.numpy_function(Rips, [DX, m, d, c], [tf.int32 for _ in range(4 * c)])\n",
    "\n",
    "        # Compute vertices associated to positive and negative simplices \n",
    "        # Don't compute gradient for this operation\n",
    "        ids = tf.nest.map_structure(tf.stop_gradient, tf.map_fn(RipsTF, DXX, dtype=[tf.int32 for _ in range(4 * c)]))\n",
    "\n",
    "        # Get persistence diagram by simply picking the corresponding entries in the distance matrix\n",
    "        dgm = tf.reshape(tf.gather_nd(DX, tf.reshape(ids, [2 * c, 2])), [c, 2])\n",
    "        \n",
    "        return dgm\n",
    "    \n",
    "model = RipsModel()\n",
    "optimizer = tf.keras.optimizers.Adam(learning_rate=1e-2)\n",
    "\n",
    "for epoch in range(100):\n",
    "    \n",
    "    with tf.GradientTape() as tape:\n",
    "        \n",
    "        dgm = model.call()        \n",
    "        loss = -tf.math.reduce_sum(tf.square(.5*(dgm[:,1]-dgm[:,0])))\n",
    "        gradients = tape.gradient(loss, model.trainable_variables)\n",
    "        optimizer.apply_gradients(zip(gradients, model.trainable_variables))"
   ],
   "id": "ea59337cc6b5dcf8"
  }
 ],
 "metadata": {
  "kernelspec": {
   "display_name": "Python 3",
   "language": "python",
   "name": "python3"
  },
  "language_info": {
   "codemirror_mode": {
    "name": "ipython",
    "version": 2
   },
   "file_extension": ".py",
   "mimetype": "text/x-python",
   "name": "python",
   "nbconvert_exporter": "python",
   "pygments_lexer": "ipython2",
   "version": "2.7.6"
  }
 },
 "nbformat": 4,
 "nbformat_minor": 5
}
