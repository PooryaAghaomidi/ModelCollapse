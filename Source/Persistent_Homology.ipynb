{
 "cells": [
  {
   "metadata": {},
   "cell_type": "markdown",
   "source": "# *GTDA*",
   "id": "786b6ab7dc447482"
  },
  {
   "metadata": {
    "ExecuteTime": {
     "end_time": "2025-02-17T10:36:47.800534Z",
     "start_time": "2025-02-17T10:36:40.342451Z"
    }
   },
   "cell_type": "code",
   "source": [
    "import numpy as np\n",
    "import matplotlib.pyplot as plt\n",
    "from gtda.homology import CubicalPersistence\n",
    "\n",
    "with np.load(\"../Dataset/mnist.npz\") as data:\n",
    "    x_train, y_train = data['x_train'], data['y_train']\n",
    "\n",
    "x_train = x_train.reshape(-1, 28, 28) / 255.0\n",
    "\n",
    "cp = CubicalPersistence(homology_dimensions=[0, 1], n_jobs=-1)\n",
    "\n",
    "batch_size = 1000\n",
    "num_batches = int(np.ceil(len(x_train) / batch_size))\n",
    "\n",
    "all_diagrams = []\n",
    "\n",
    "for i in range(num_batches):\n",
    "    print(f\"Processing batch {i+1}/{num_batches}\")\n",
    "    start_idx = i * batch_size\n",
    "    end_idx = min((i + 1) * batch_size, len(x_train))\n",
    "    batch_images = x_train[start_idx:end_idx]\n",
    "\n",
    "    diagrams = cp.fit_transform(batch_images)\n",
    "    all_diagrams.extend(diagrams)\n",
    "\n",
    "H0_all = []\n",
    "H1_all = []\n",
    "\n",
    "for diag in all_diagrams:\n",
    "    H0_all.append(diag[diag[:, 2] == 0][:, :2])  # H0 features\n",
    "    H1_all.append(diag[diag[:, 2] == 1][:, :2])  # H1 features\n",
    "\n",
    "# Concatenate all H0 and H1 features into single arrays\n",
    "H0_all = np.concatenate(H0_all)\n",
    "H1_all = np.concatenate(H1_all)\n",
    "\n",
    "# Plot settings\n",
    "plt.figure(figsize=(10, 5))\n",
    "\n",
    "# H0 Diagram\n",
    "plt.subplot(1, 2, 1)\n",
    "plt.scatter(H0_all[:, 0], H0_all[:, 1], label='H0', color='blue', alpha=0.5)\n",
    "plt.plot([0, 1], [0, 1], 'k--', linewidth=0.5)  # Diagonal\n",
    "plt.title('Aggregated H0 Persistence Diagram')\n",
    "plt.xlabel('Birth')\n",
    "plt.ylabel('Death')\n",
    "plt.grid(True)\n",
    "\n",
    "# H1 Diagram\n",
    "plt.subplot(1, 2, 2)\n",
    "plt.scatter(H1_all[:, 0], H1_all[:, 1], label='H1', color='orange', alpha=0.5)\n",
    "plt.plot([0, 1], [0, 1], 'k--', linewidth=0.5)\n",
    "plt.title('Aggregated H1 Persistence Diagram')\n",
    "plt.xlabel('Birth')\n",
    "plt.ylabel('Death')\n",
    "plt.grid(True)\n",
    "\n",
    "plt.tight_layout()\n",
    "plt.show()"
   ],
   "id": "c58fc69a6aefcfd3",
   "outputs": [
    {
     "name": "stderr",
     "output_type": "stream",
     "text": [
      "\n",
      "KeyboardInterrupt\n",
      "\n"
     ]
    }
   ],
   "execution_count": 1
  },
  {
   "metadata": {
    "ExecuteTime": {
     "end_time": "2025-02-17T10:36:47.800534Z",
     "start_time": "2025-02-17T10:36:47.800534Z"
    }
   },
   "cell_type": "code",
   "source": [
    "import numpy as np\n",
    "import matplotlib.pyplot as plt\n",
    "from gtda.homology import CubicalPersistence\n",
    "\n",
    "data = np.load('../Dataset/mnist.npz')\n",
    "x_train = data['x_train']\n",
    "y_train = data['y_train']\n",
    "\n",
    "x_train = x_train.reshape(-1, 28, 28) / 255.0\n",
    "\n",
    "digits = [0, 1, 2]\n",
    "mask = np.isin(y_train, digits)\n",
    "x_filtered = x_train[mask]\n",
    "y_filtered = y_train[mask]\n",
    "\n",
    "cp = CubicalPersistence(homology_dimensions=[1], n_jobs=-1)\n",
    "\n",
    "batch_size = 1000\n",
    "num_batches = int(np.ceil(len(x_filtered) / batch_size))\n",
    "\n",
    "H1_all = []\n",
    "\n",
    "for i in range(num_batches):\n",
    "    print(f\"Processing batch {i+1}/{num_batches}\")\n",
    "    start_idx = i * batch_size\n",
    "    end_idx = min((i + 1) * batch_size, len(x_filtered))\n",
    "    batch_images = x_filtered[start_idx:end_idx]\n",
    "\n",
    "    diagrams = cp.fit_transform(batch_images)\n",
    "    H1_all.extend(diagrams)\n",
    "\n",
    "H1_all = [diag[diag[:, 2] == 1][:, :2] for diag in H1_all]\n",
    "\n",
    "H1_by_digit = {digit: [] for digit in digits}\n",
    "for i, diag in enumerate(H1_all):\n",
    "    digit = y_filtered[i]\n",
    "    H1_by_digit[digit].append(diag)\n",
    "\n",
    "H1_by_digit = {digit: np.concatenate(diags) for digit, diags in H1_by_digit.items()}\n",
    "\n",
    "plt.figure(figsize=(15, 5))\n",
    "\n",
    "for i, digit in enumerate(digits):\n",
    "    plt.subplot(1, 3, i + 1)\n",
    "    plt.scatter(H1_by_digit[digit][:, 0], H1_by_digit[digit][:, 1], label=f'Digit {digit}', alpha=0.5)\n",
    "    plt.plot([0, 1], [0, 1], 'k--', linewidth=0.5)  # Diagonal\n",
    "    plt.title(f'H1 Persistence Diagram (Digit {digit})')\n",
    "    plt.xlabel('Birth')\n",
    "    plt.ylabel('Death')\n",
    "    plt.grid(True)\n",
    "\n",
    "plt.tight_layout()\n",
    "plt.show()"
   ],
   "id": "40bf82c6383a72de",
   "outputs": [],
   "execution_count": null
  },
  {
   "metadata": {},
   "cell_type": "markdown",
   "source": "# *Ripser*",
   "id": "47c8c1a71a2ba04d"
  },
  {
   "metadata": {
    "ExecuteTime": {
     "end_time": "2025-02-17T10:36:47.800534Z",
     "start_time": "2025-02-17T10:36:47.800534Z"
    }
   },
   "cell_type": "code",
   "source": [
    "import random\n",
    "import numpy as np\n",
    "from ripser import ripser\n",
    "from persim import plot_diagrams\n",
    "import tensorflow as tf\n",
    "\n",
    "default_plot = True\n",
    "\n",
    "data = np.load(\"../Dataset/mnist.npz\")\n",
    "X_train = data[\"x_train\"]\n",
    "y_train = data[\"y_train\"]\n",
    "\n",
    "X_train = X_train.reshape(X_train.shape[0], -1)\n",
    "\n",
    "def compute_persistence_for_digit(digit, num_samples=300):\n",
    "    indices = np.where(y_train == digit)[0]\n",
    "    selected_indices = random.sample(list(indices), num_samples)\n",
    "    subset = X_train[selected_indices]  # No PCA, full 784D\n",
    "    tf_tensor = tf.convert_to_tensor(subset)\n",
    "    return ripser(tf_tensor, maxdim=2)['dgms']\n",
    "\n",
    "digits_to_compare = [0, 1, 2]\n",
    "\n",
    "if default_plot:\n",
    "    for i, digit in enumerate(digits_to_compare):\n",
    "        dgms1 = compute_persistence_for_digit(digit)\n",
    "        plot_diagrams(dgms1, show=True)\n",
    "else:\n",
    "    plt.figure(figsize=(12, 4))\n",
    "    \n",
    "    for i, digit in enumerate(digits_to_compare):\n",
    "        dgms = compute_persistence_for_digit(digit)\n",
    "        plt.subplot(1, len(digits_to_compare), i + 1)\n",
    "        for j, dgm in enumerate(dgms):\n",
    "            plt.scatter(dgm[:, 0], dgm[:, 1])\n",
    "            plt.plot([0, np.max(dgm)], [0, np.max(dgm)], 'k--')\n",
    "            plt.xlabel(\"Birth\")\n",
    "            plt.ylabel(\"Death\")\n",
    "            plt.title(f\"Digit {digit}, $H_{j}$\")\n",
    "    \n",
    "    plt.show()"
   ],
   "id": "246f25b79f28b6f2",
   "outputs": [],
   "execution_count": null
  },
  {
   "metadata": {
    "ExecuteTime": {
     "end_time": "2025-02-17T10:36:47.800534Z",
     "start_time": "2025-02-17T10:36:47.800534Z"
    }
   },
   "cell_type": "code",
   "source": [
    "default_plot = True\n",
    "\n",
    "data = np.load(\"../Dataset/NoReg_Extra_6.npz\")\n",
    "X_train = data[\"images\"]\n",
    "y_train = data[\"labels\"]\n",
    "\n",
    "X_train = X_train.reshape(X_train.shape[0], -1)\n",
    "y_train = np.argmax(y_train, axis=1)\n",
    "\n",
    "def compute_persistence_for_digit(digit, num_samples=300):\n",
    "    indices = np.where(y_train == digit)[0]\n",
    "    selected_indices = random.sample(list(indices), num_samples)\n",
    "    subset = X_train[selected_indices]\n",
    "    return ripser(subset, maxdim=2)['dgms']\n",
    "\n",
    "digits_to_compare = [0, 1, 2]\n",
    "\n",
    "if default_plot:\n",
    "    for i, digit in enumerate(digits_to_compare):\n",
    "        dgms2 = compute_persistence_for_digit(digit)\n",
    "        plot_diagrams(dgms2, show=True)\n",
    "else:\n",
    "    plt.figure(figsize=(12, 4))\n",
    "    \n",
    "    for i, digit in enumerate(digits_to_compare):\n",
    "        dgms = compute_persistence_for_digit(digit)\n",
    "        plt.subplot(1, len(digits_to_compare), i + 1)\n",
    "        for j, dgm in enumerate(dgms):\n",
    "            plt.scatter(dgm[:, 0], dgm[:, 1])\n",
    "            plt.plot([0, np.max(dgm)], [0, np.max(dgm)], 'k--')\n",
    "            plt.xlabel(\"Birth\")\n",
    "            plt.ylabel(\"Death\")\n",
    "            plt.title(f\"Digit {digit}, $H_{j}$\")\n",
    "    \n",
    "    plt.show()"
   ],
   "id": "2ac0de989fd0af46",
   "outputs": [],
   "execution_count": null
  },
  {
   "metadata": {},
   "cell_type": "code",
   "source": [
    "from gudhi.wasserstein import wasserstein_distance\n",
    "\n",
    "wasserstein_dist = wasserstein_distance(dgms1[2], dgms2[2], order=2)\n",
    "wasserstein_dist"
   ],
   "id": "71b8da7488cdd38b",
   "outputs": [],
   "execution_count": null
  },
  {
   "metadata": {},
   "cell_type": "markdown",
   "source": "# *differentiability*",
   "id": "585922d51621b500"
  },
  {
   "metadata": {
    "ExecuteTime": {
     "end_time": "2025-02-17T10:36:47.816166Z",
     "start_time": "2025-02-17T10:36:47.816166Z"
    }
   },
   "cell_type": "code",
   "source": [
    "import numpy as np\n",
    "import tensorflow as tf\n",
    "from gudhi.tensorflow import CubicalLayer\n",
    "\n",
    "data = np.load(\"../Dataset/mnist.npz\")\n",
    "X_train = data[\"x_train\"][:100]\n",
    "X_train = X_train.astype(np.float32) / 255.0\n",
    "\n",
    "X_train_tf = tf.convert_to_tensor(X_train)\n",
    "cubical_layer = CubicalLayer(homology_dimensions=[0, 1, 2])\n",
    "persistence_diagrams = cubical_layer(X_train_tf)"
   ],
   "id": "3d2db91852ef1e15",
   "outputs": [],
   "execution_count": null
  },
  {
   "metadata": {
    "ExecuteTime": {
     "end_time": "2025-02-17T10:36:47.816166Z",
     "start_time": "2025-02-17T10:36:47.816166Z"
    }
   },
   "cell_type": "code",
   "source": [
    "import matplotlib.pyplot as plt\n",
    "\n",
    "plt.scatter(persistence_diagrams[1][0].numpy()[:, 0], persistence_diagrams[1][0].numpy()[:, 1])\n",
    "plt.scatter(persistence_diagrams[2][0].numpy()[:, 0], persistence_diagrams[2][0].numpy()[:, 1])\n",
    "plt.show()"
   ],
   "id": "2f5cf4057ead59b9",
   "outputs": [],
   "execution_count": null
  },
  {
   "metadata": {
    "ExecuteTime": {
     "end_time": "2025-02-17T10:36:47.816166Z",
     "start_time": "2025-02-17T10:36:47.816166Z"
    }
   },
   "cell_type": "code",
   "source": [
    "data = np.load(\"../Dataset/NoReg_Extra_6.npz\")\n",
    "X_train = data[\"images\"][:32]\n",
    "y_train = data[\"labels\"][:32]\n",
    "\n",
    "X_train = tf.convert_to_tensor(X_train)\n",
    "y_train = tf.convert_to_tensor(y_train)\n",
    "\n",
    "y_train = tf.argmax(y_train, axis=1)\n",
    "X_real = (X_train - tf.reduce_min(X_train)) / (tf.reduce_max(X_train) - tf.reduce_min(X_train))\n",
    "\n",
    "cubical_layer = CubicalLayer(homology_dimensions=[0, 1, 2])\n",
    "digits = tf.constant([0, 1, 2, 3, 4, 5, 6, 7, 8, 9], dtype=tf.int64)\n",
    "\n",
    "hps = []\n",
    "ph_losses = 0\n",
    "for i, digit in enumerate(digits):\n",
    "    indices = tf.where(y_train == digit)[:, 0]\n",
    "    \n",
    "    real_subset = tf.gather(X_real, indices)\n",
    "    real_dgms = cubical_layer(real_subset)\n",
    "    real_concat = tf.concat([real_dgms[1][0], real_dgms[2][0]], axis=0)\n",
    "    hps.append(real_concat)"
   ],
   "id": "8e824bdadab53587",
   "outputs": [],
   "execution_count": null
  },
  {
   "metadata": {
    "ExecuteTime": {
     "end_time": "2025-02-17T10:36:47.831793Z",
     "start_time": "2025-02-17T10:36:47.816166Z"
    }
   },
   "cell_type": "code",
   "source": [
    "def sliced_wasserstein_distance(PD1, PD2, num_projections=50):\n",
    "    angles = tf.random.uniform([num_projections, 2], minval=-1, maxval=1)\n",
    "    angles /= tf.norm(angles, axis=-1, keepdims=True)  # Normalize to unit vectors\n",
    "    \n",
    "    proj1 = tf.linalg.matmul(PD1, tf.transpose(angles))  # Shape [m, num_projections]\n",
    "    proj2 = tf.linalg.matmul(PD2, tf.transpose(angles))  # Shape [n, num_projections]\n",
    "    \n",
    "    proj1 = tf.sort(proj1, axis=0)  # Shape [m, num_projections]\n",
    "    proj2 = tf.sort(proj2, axis=0)  # Shape [n, num_projections]\n",
    "    \n",
    "    # Resample both to a common size (e.g., max(m, n))\n",
    "    target_size = tf.maximum(tf.shape(proj1)[0], tf.shape(proj2)[0])\n",
    "    proj1 = tf.image.resize(proj1[None, :, :], [target_size, num_projections])[0]\n",
    "    proj2 = tf.image.resize(proj2[None, :, :], [target_size, num_projections])[0]\n",
    "\n",
    "    return tf.reduce_mean(tf.abs(proj1 - proj2))\n",
    "\n",
    "dist_swd = sliced_wasserstein_distance(hps[1], hps[8])\n",
    "print(dist_swd)"
   ],
   "id": "e2962eba59b2b849",
   "outputs": [],
   "execution_count": null
  },
  {
   "metadata": {
    "ExecuteTime": {
     "end_time": "2025-02-17T10:36:47.831793Z",
     "start_time": "2025-02-17T10:36:47.831793Z"
    }
   },
   "cell_type": "code",
   "source": "dist_swd / len(digits)",
   "id": "61c0acc9606f431b",
   "outputs": [],
   "execution_count": null
  },
  {
   "metadata": {
    "ExecuteTime": {
     "end_time": "2025-02-17T10:36:47.847417Z",
     "start_time": "2025-02-17T10:36:47.847417Z"
    }
   },
   "cell_type": "code",
   "source": "",
   "id": "8d98e28a666a8d5c",
   "outputs": [],
   "execution_count": null
  }
 ],
 "metadata": {
  "kernelspec": {
   "display_name": "Python 3",
   "language": "python",
   "name": "python3"
  },
  "language_info": {
   "codemirror_mode": {
    "name": "ipython",
    "version": 2
   },
   "file_extension": ".py",
   "mimetype": "text/x-python",
   "name": "python",
   "nbconvert_exporter": "python",
   "pygments_lexer": "ipython2",
   "version": "2.7.6"
  }
 },
 "nbformat": 4,
 "nbformat_minor": 5
}
