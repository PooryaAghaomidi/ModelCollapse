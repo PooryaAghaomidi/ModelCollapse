{
 "cells": [
  {
   "cell_type": "markdown",
   "metadata": {
    "id": "ljWE-qDpqEB4"
   },
   "source": [
    "# Preparation"
   ]
  },
  {
   "cell_type": "code",
   "source": [
    "seed_value= 42\n",
    "\n",
    "import random\n",
    "random.seed(seed_value)\n",
    "\n",
    "import numpy as np\n",
    "np.random.seed(seed_value)\n",
    "\n",
    "import tensorflow as tf\n",
    "tf.random.set_seed(seed_value)\n",
    "tf.keras.utils.set_random_seed(seed_value)"
   ],
   "metadata": {
    "id": "sUr3ZyJyqgvf",
    "ExecuteTime": {
     "end_time": "2024-11-23T14:05:57.115143200Z",
     "start_time": "2024-11-23T14:05:42.030697800Z"
    }
   },
   "execution_count": 1,
   "outputs": []
  },
  {
   "cell_type": "code",
   "source": [
    "import os\n",
    "\n",
    "os.environ[\"CUDA_VISIBLE_DEVICES\"]=\"0\"\n",
    "print(tf.__version__)\n",
    "print(tf.config.list_physical_devices('GPU'))"
   ],
   "metadata": {
    "id": "lFlwHbbEqm_C",
    "outputId": "425f2df4-2ddd-4dfc-ad66-676b769608aa",
    "colab": {
     "base_uri": "https://localhost:8080/"
    },
    "ExecuteTime": {
     "end_time": "2024-11-23T14:05:58.343071200Z",
     "start_time": "2024-11-23T14:05:57.115143200Z"
    }
   },
   "execution_count": 2,
   "outputs": [
    {
     "name": "stdout",
     "output_type": "stream",
     "text": [
      "2.9.0\n",
      "[PhysicalDevice(name='/physical_device:GPU:0', device_type='GPU')]\n"
     ]
    }
   ]
  },
  {
   "cell_type": "code",
   "execution_count": 3,
   "metadata": {
    "id": "UxBHr1ztqECA",
    "ExecuteTime": {
     "end_time": "2024-11-23T14:05:58.394351800Z",
     "start_time": "2024-11-23T14:05:58.343071200Z"
    }
   },
   "outputs": [],
   "source": [
    "from tensorflow import keras\n",
    "from tensorflow.keras import layers"
   ]
  },
  {
   "cell_type": "code",
   "execution_count": 4,
   "metadata": {
    "id": "pQGJI2aIqECB",
    "ExecuteTime": {
     "end_time": "2024-11-23T14:05:58.394351800Z",
     "start_time": "2024-11-23T14:05:58.359179400Z"
    }
   },
   "outputs": [],
   "source": [
    "num_epochs  = 100\n",
    "batch_size  = 16\n",
    "num_classes = 10\n",
    "shape       = (28, 28, 1)\n",
    "lr          = 0.0003\n",
    "opt         = keras.optimizers.Adamax(learning_rate=lr)\n",
    "los         = keras.losses.CategoricalCrossentropy()\n",
    "mtr         = [\"accuracy\"]"
   ]
  },
  {
   "cell_type": "markdown",
   "metadata": {
    "id": "VkbDK0AAqECC"
   },
   "source": [
    "# Dataset"
   ]
  },
  {
   "cell_type": "code",
   "execution_count": 5,
   "metadata": {
    "id": "IyJalcA1qECC",
    "outputId": "4e3fe176-81ee-48f4-9260-7456854ed5a7",
    "colab": {
     "base_uri": "https://localhost:8080/"
    },
    "ExecuteTime": {
     "end_time": "2024-11-23T14:05:59.822487200Z",
     "start_time": "2024-11-23T14:05:58.378720600Z"
    }
   },
   "outputs": [
    {
     "name": "stdout",
     "output_type": "stream",
     "text": [
      "Shape of training images: (54000, 28, 28, 1)\n",
      "Shape of validation images: (6000, 28, 28, 1)\n",
      "Shape of testing images: (10000, 28, 28, 1)\n"
     ]
    }
   ],
   "source": [
    "def prepare_data(main_path, validation_split=0.1):\n",
    "    with np.load(main_path) as data:\n",
    "        x_train, y_train = data['x_train'], data['y_train']\n",
    "        x_test, y_test = data['x_test'], data['y_test']\n",
    "        \n",
    "    # Normalize and reshape the data\n",
    "    x_train = x_train.astype(\"float32\") / 255.0\n",
    "    x_test = x_test.astype(\"float32\") / 255.0\n",
    "    \n",
    "    x_train = np.reshape(x_train, (-1, 28, 28, 1))\n",
    "    x_test = np.reshape(x_test, (-1, 28, 28, 1))\n",
    "    \n",
    "    y_train = keras.utils.to_categorical(y_train, 10)\n",
    "    y_test = keras.utils.to_categorical(y_test, 10)\n",
    "    \n",
    "    # Split the training data into train and validation sets\n",
    "    val_size = int(len(x_train) * validation_split)\n",
    "    x_val, y_val = x_train[:val_size], y_train[:val_size]\n",
    "    x_train, y_train = x_train[val_size:], y_train[val_size:]\n",
    "    \n",
    "    # Create TensorFlow datasets\n",
    "    train_dataset = tf.data.Dataset.from_tensor_slices((x_train, y_train))\n",
    "    val_dataset = tf.data.Dataset.from_tensor_slices((x_val, y_val))\n",
    "    test_dataset = tf.data.Dataset.from_tensor_slices((x_test, y_test))\n",
    "    \n",
    "    # Shuffle and batch the datasets\n",
    "    train_dataset = train_dataset.shuffle(buffer_size=1024).batch(batch_size)\n",
    "    val_dataset = val_dataset.shuffle(buffer_size=1024).batch(batch_size)\n",
    "    test_dataset = test_dataset.shuffle(buffer_size=1024).batch(batch_size)\n",
    "    \n",
    "    # Print the shapes\n",
    "    print(f\"Shape of training images: {x_train.shape}\")\n",
    "    print(f\"Shape of validation images: {x_val.shape}\")\n",
    "    print(f\"Shape of testing images: {x_test.shape}\")\n",
    "    \n",
    "    return train_dataset, val_dataset, test_dataset\n",
    "\n",
    "    \n",
    "train_dataset, val_dataset, test_dataset = prepare_data(main_path=\"../Dataset/mnist.npz\")    "
   ]
  },
  {
   "cell_type": "markdown",
   "metadata": {
    "id": "Xh4A2BtfqECF",
    "ExecuteTime": {
     "end_time": "2024-11-22T23:06:19.033004900Z",
     "start_time": "2024-11-22T23:06:18.970186300Z"
    }
   },
   "source": [
    "# Model"
   ]
  },
  {
   "cell_type": "code",
   "execution_count": 6,
   "metadata": {
    "id": "-E8lf3QbqECF",
    "ExecuteTime": {
     "end_time": "2024-11-23T14:06:01.405557400Z",
     "start_time": "2024-11-23T14:05:59.822487200Z"
    }
   },
   "outputs": [
    {
     "name": "stdout",
     "output_type": "stream",
     "text": [
      "Model: \"discriminator\"\n",
      "_________________________________________________________________\n",
      " Layer (type)                Output Shape              Param #   \n",
      "=================================================================\n",
      " conv2d (Conv2D)             (None, 14, 14, 32)        320       \n",
      "                                                                 \n",
      " leaky_re_lu (LeakyReLU)     (None, 14, 14, 32)        0         \n",
      "                                                                 \n",
      " conv2d_1 (Conv2D)           (None, 7, 7, 64)          18496     \n",
      "                                                                 \n",
      " leaky_re_lu_1 (LeakyReLU)   (None, 7, 7, 64)          0         \n",
      "                                                                 \n",
      " conv2d_2 (Conv2D)           (None, 4, 4, 128)         73856     \n",
      "                                                                 \n",
      " leaky_re_lu_2 (LeakyReLU)   (None, 4, 4, 128)         0         \n",
      "                                                                 \n",
      " global_max_pooling2d (Globa  (None, 128)              0         \n",
      " lMaxPooling2D)                                                  \n",
      "                                                                 \n",
      " dense (Dense)               (None, 64)                8256      \n",
      "                                                                 \n",
      " dense_1 (Dense)             (None, 10)                650       \n",
      "                                                                 \n",
      "=================================================================\n",
      "Total params: 101,578\n",
      "Trainable params: 101,578\n",
      "Non-trainable params: 0\n",
      "_________________________________________________________________\n"
     ]
    }
   ],
   "source": [
    "model = keras.Sequential([keras.layers.InputLayer(shape),\n",
    "                          layers.Conv2D(32, (3, 3), strides=(2, 2), padding=\"same\"),\n",
    "                          layers.LeakyReLU(alpha=0.2),\n",
    "                          layers.Conv2D(64, (3, 3), strides=(2, 2), padding=\"same\"),\n",
    "                          layers.LeakyReLU(alpha=0.2),\n",
    "                          layers.Conv2D(128, (3, 3), strides=(2, 2), padding=\"same\"),\n",
    "                          layers.LeakyReLU(alpha=0.2),\n",
    "                          layers.GlobalMaxPooling2D(),\n",
    "                          layers.Dense(64, activation=\"relu\"),\n",
    "                          layers.Dense(num_classes, activation=\"softmax\")],\n",
    "                         name=\"discriminator\")\n",
    "\n",
    "model.compile(optimizer=opt, loss=los, metrics=mtr)\n",
    "model.summary()"
   ]
  },
  {
   "cell_type": "markdown",
   "metadata": {
    "id": "-SJbTfPtqECG",
    "ExecuteTime": {
     "end_time": "2024-11-22T23:10:10.564855800Z",
     "start_time": "2024-11-22T23:06:19.064800900Z"
    }
   },
   "source": [
    "# Train"
   ]
  },
  {
   "cell_type": "code",
   "execution_count": 7,
   "metadata": {
    "id": "pc-gS6NbqECG",
    "outputId": "b7a62951-22be-4a99-a7bf-bc741c464c7f",
    "colab": {
     "base_uri": "https://localhost:8080/",
     "height": 1000
    },
    "ExecuteTime": {
     "end_time": "2024-11-23T14:18:48.275163500Z",
     "start_time": "2024-11-23T14:05:59.965086200Z"
    }
   },
   "outputs": [
    {
     "name": "stdout",
     "output_type": "stream",
     "text": [
      "Epoch 1/100\n",
      "3361/3375 [============================>.] - ETA: 0s - loss: 0.5070 - accuracy: 0.8597"
     ]
    },
    {
     "name": "stderr",
     "output_type": "stream",
     "text": [
      "WARNING:absl:Found untraced functions such as _jit_compiled_convolution_op, _jit_compiled_convolution_op, _jit_compiled_convolution_op while saving (showing 3 of 3). These functions will not be directly callable after loading.\n"
     ]
    },
    {
     "name": "stdout",
     "output_type": "stream",
     "text": [
      "INFO:tensorflow:Assets written to: Checkpoints\\Zero\\assets\n"
     ]
    },
    {
     "name": "stderr",
     "output_type": "stream",
     "text": [
      "INFO:tensorflow:Assets written to: Checkpoints\\Zero\\assets\n"
     ]
    },
    {
     "name": "stdout",
     "output_type": "stream",
     "text": [
      "3375/3375 [==============================] - 22s 5ms/step - loss: 0.5054 - accuracy: 0.8601 - val_loss: 0.2002 - val_accuracy: 0.9425 - lr: 3.0000e-04\n",
      "Epoch 2/100\n",
      "3371/3375 [============================>.] - ETA: 0s - loss: 0.1894 - accuracy: 0.9442"
     ]
    },
    {
     "name": "stderr",
     "output_type": "stream",
     "text": [
      "WARNING:absl:Found untraced functions such as _jit_compiled_convolution_op, _jit_compiled_convolution_op, _jit_compiled_convolution_op while saving (showing 3 of 3). These functions will not be directly callable after loading.\n"
     ]
    },
    {
     "name": "stdout",
     "output_type": "stream",
     "text": [
      "INFO:tensorflow:Assets written to: Checkpoints\\Zero\\assets\n"
     ]
    },
    {
     "name": "stderr",
     "output_type": "stream",
     "text": [
      "INFO:tensorflow:Assets written to: Checkpoints\\Zero\\assets\n"
     ]
    },
    {
     "name": "stdout",
     "output_type": "stream",
     "text": [
      "3375/3375 [==============================] - 16s 5ms/step - loss: 0.1894 - accuracy: 0.9443 - val_loss: 0.1536 - val_accuracy: 0.9553 - lr: 3.0000e-04\n",
      "Epoch 3/100\n",
      "3364/3375 [============================>.] - ETA: 0s - loss: 0.1460 - accuracy: 0.9575"
     ]
    },
    {
     "name": "stderr",
     "output_type": "stream",
     "text": [
      "WARNING:absl:Found untraced functions such as _jit_compiled_convolution_op, _jit_compiled_convolution_op, _jit_compiled_convolution_op while saving (showing 3 of 3). These functions will not be directly callable after loading.\n"
     ]
    },
    {
     "name": "stdout",
     "output_type": "stream",
     "text": [
      "INFO:tensorflow:Assets written to: Checkpoints\\Zero\\assets\n"
     ]
    },
    {
     "name": "stderr",
     "output_type": "stream",
     "text": [
      "INFO:tensorflow:Assets written to: Checkpoints\\Zero\\assets\n"
     ]
    },
    {
     "name": "stdout",
     "output_type": "stream",
     "text": [
      "3375/3375 [==============================] - 15s 5ms/step - loss: 0.1458 - accuracy: 0.9576 - val_loss: 0.1340 - val_accuracy: 0.9590 - lr: 3.0000e-04\n",
      "Epoch 4/100\n",
      "3369/3375 [============================>.] - ETA: 0s - loss: 0.1225 - accuracy: 0.9642"
     ]
    },
    {
     "name": "stderr",
     "output_type": "stream",
     "text": [
      "WARNING:absl:Found untraced functions such as _jit_compiled_convolution_op, _jit_compiled_convolution_op, _jit_compiled_convolution_op while saving (showing 3 of 3). These functions will not be directly callable after loading.\n"
     ]
    },
    {
     "name": "stdout",
     "output_type": "stream",
     "text": [
      "INFO:tensorflow:Assets written to: Checkpoints\\Zero\\assets\n"
     ]
    },
    {
     "name": "stderr",
     "output_type": "stream",
     "text": [
      "INFO:tensorflow:Assets written to: Checkpoints\\Zero\\assets\n"
     ]
    },
    {
     "name": "stdout",
     "output_type": "stream",
     "text": [
      "3375/3375 [==============================] - 15s 4ms/step - loss: 0.1225 - accuracy: 0.9642 - val_loss: 0.1163 - val_accuracy: 0.9667 - lr: 3.0000e-04\n",
      "Epoch 5/100\n",
      "3366/3375 [============================>.] - ETA: 0s - loss: 0.1064 - accuracy: 0.9680"
     ]
    },
    {
     "name": "stderr",
     "output_type": "stream",
     "text": [
      "WARNING:absl:Found untraced functions such as _jit_compiled_convolution_op, _jit_compiled_convolution_op, _jit_compiled_convolution_op while saving (showing 3 of 3). These functions will not be directly callable after loading.\n"
     ]
    },
    {
     "name": "stdout",
     "output_type": "stream",
     "text": [
      "INFO:tensorflow:Assets written to: Checkpoints\\Zero\\assets\n"
     ]
    },
    {
     "name": "stderr",
     "output_type": "stream",
     "text": [
      "INFO:tensorflow:Assets written to: Checkpoints\\Zero\\assets\n"
     ]
    },
    {
     "name": "stdout",
     "output_type": "stream",
     "text": [
      "3375/3375 [==============================] - 14s 4ms/step - loss: 0.1063 - accuracy: 0.9680 - val_loss: 0.1085 - val_accuracy: 0.9697 - lr: 3.0000e-04\n",
      "Epoch 6/100\n",
      "3360/3375 [============================>.] - ETA: 0s - loss: 0.0938 - accuracy: 0.9719"
     ]
    },
    {
     "name": "stderr",
     "output_type": "stream",
     "text": [
      "WARNING:absl:Found untraced functions such as _jit_compiled_convolution_op, _jit_compiled_convolution_op, _jit_compiled_convolution_op while saving (showing 3 of 3). These functions will not be directly callable after loading.\n"
     ]
    },
    {
     "name": "stdout",
     "output_type": "stream",
     "text": [
      "INFO:tensorflow:Assets written to: Checkpoints\\Zero\\assets\n"
     ]
    },
    {
     "name": "stderr",
     "output_type": "stream",
     "text": [
      "INFO:tensorflow:Assets written to: Checkpoints\\Zero\\assets\n"
     ]
    },
    {
     "name": "stdout",
     "output_type": "stream",
     "text": [
      "3375/3375 [==============================] - 16s 5ms/step - loss: 0.0936 - accuracy: 0.9719 - val_loss: 0.0990 - val_accuracy: 0.9713 - lr: 3.0000e-04\n",
      "Epoch 7/100\n",
      "3375/3375 [==============================] - 13s 4ms/step - loss: 0.0833 - accuracy: 0.9750 - val_loss: 0.0995 - val_accuracy: 0.9695 - lr: 3.0000e-04\n",
      "Epoch 8/100\n",
      "3373/3375 [============================>.] - ETA: 0s - loss: 0.0757 - accuracy: 0.9773"
     ]
    },
    {
     "name": "stderr",
     "output_type": "stream",
     "text": [
      "WARNING:absl:Found untraced functions such as _jit_compiled_convolution_op, _jit_compiled_convolution_op, _jit_compiled_convolution_op while saving (showing 3 of 3). These functions will not be directly callable after loading.\n"
     ]
    },
    {
     "name": "stdout",
     "output_type": "stream",
     "text": [
      "INFO:tensorflow:Assets written to: Checkpoints\\Zero\\assets\n"
     ]
    },
    {
     "name": "stderr",
     "output_type": "stream",
     "text": [
      "INFO:tensorflow:Assets written to: Checkpoints\\Zero\\assets\n"
     ]
    },
    {
     "name": "stdout",
     "output_type": "stream",
     "text": [
      "3375/3375 [==============================] - 16s 5ms/step - loss: 0.0757 - accuracy: 0.9773 - val_loss: 0.0883 - val_accuracy: 0.9733 - lr: 3.0000e-04\n",
      "Epoch 9/100\n",
      "3375/3375 [==============================] - 15s 5ms/step - loss: 0.0688 - accuracy: 0.9793 - val_loss: 0.1020 - val_accuracy: 0.9687 - lr: 3.0000e-04\n",
      "Epoch 10/100\n",
      "3375/3375 [==============================] - 15s 4ms/step - loss: 0.0634 - accuracy: 0.9808 - val_loss: 0.0897 - val_accuracy: 0.9740 - lr: 3.0000e-04\n",
      "Epoch 11/100\n",
      "3375/3375 [==============================] - 14s 4ms/step - loss: 0.0586 - accuracy: 0.9822 - val_loss: 0.0904 - val_accuracy: 0.9743 - lr: 3.0000e-04\n",
      "Epoch 12/100\n",
      "3375/3375 [==============================] - 14s 4ms/step - loss: 0.0536 - accuracy: 0.9839 - val_loss: 0.1078 - val_accuracy: 0.9678 - lr: 3.0000e-04\n",
      "Epoch 13/100\n",
      "3373/3375 [============================>.] - ETA: 0s - loss: 0.0508 - accuracy: 0.9848"
     ]
    },
    {
     "name": "stderr",
     "output_type": "stream",
     "text": [
      "WARNING:absl:Found untraced functions such as _jit_compiled_convolution_op, _jit_compiled_convolution_op, _jit_compiled_convolution_op while saving (showing 3 of 3). These functions will not be directly callable after loading.\n"
     ]
    },
    {
     "name": "stdout",
     "output_type": "stream",
     "text": [
      "INFO:tensorflow:Assets written to: Checkpoints\\Zero\\assets\n"
     ]
    },
    {
     "name": "stderr",
     "output_type": "stream",
     "text": [
      "INFO:tensorflow:Assets written to: Checkpoints\\Zero\\assets\n"
     ]
    },
    {
     "name": "stdout",
     "output_type": "stream",
     "text": [
      "3375/3375 [==============================] - 15s 4ms/step - loss: 0.0507 - accuracy: 0.9848 - val_loss: 0.0855 - val_accuracy: 0.9738 - lr: 3.0000e-04\n",
      "Epoch 14/100\n",
      "3375/3375 [==============================] - ETA: 0s - loss: 0.0468 - accuracy: 0.9859"
     ]
    },
    {
     "name": "stderr",
     "output_type": "stream",
     "text": [
      "WARNING:absl:Found untraced functions such as _jit_compiled_convolution_op, _jit_compiled_convolution_op, _jit_compiled_convolution_op while saving (showing 3 of 3). These functions will not be directly callable after loading.\n"
     ]
    },
    {
     "name": "stdout",
     "output_type": "stream",
     "text": [
      "INFO:tensorflow:Assets written to: Checkpoints\\Zero\\assets\n"
     ]
    },
    {
     "name": "stderr",
     "output_type": "stream",
     "text": [
      "INFO:tensorflow:Assets written to: Checkpoints\\Zero\\assets\n"
     ]
    },
    {
     "name": "stdout",
     "output_type": "stream",
     "text": [
      "3375/3375 [==============================] - 15s 4ms/step - loss: 0.0468 - accuracy: 0.9859 - val_loss: 0.0749 - val_accuracy: 0.9762 - lr: 3.0000e-04\n",
      "Epoch 15/100\n",
      "3375/3375 [==============================] - 13s 4ms/step - loss: 0.0434 - accuracy: 0.9866 - val_loss: 0.0797 - val_accuracy: 0.9760 - lr: 3.0000e-04\n",
      "Epoch 16/100\n",
      "3375/3375 [==============================] - 13s 4ms/step - loss: 0.0407 - accuracy: 0.9876 - val_loss: 0.0788 - val_accuracy: 0.9770 - lr: 3.0000e-04\n",
      "Epoch 17/100\n",
      "3367/3375 [============================>.] - ETA: 0s - loss: 0.0375 - accuracy: 0.9887"
     ]
    },
    {
     "name": "stderr",
     "output_type": "stream",
     "text": [
      "WARNING:absl:Found untraced functions such as _jit_compiled_convolution_op, _jit_compiled_convolution_op, _jit_compiled_convolution_op while saving (showing 3 of 3). These functions will not be directly callable after loading.\n"
     ]
    },
    {
     "name": "stdout",
     "output_type": "stream",
     "text": [
      "INFO:tensorflow:Assets written to: Checkpoints\\Zero\\assets\n"
     ]
    },
    {
     "name": "stderr",
     "output_type": "stream",
     "text": [
      "INFO:tensorflow:Assets written to: Checkpoints\\Zero\\assets\n"
     ]
    },
    {
     "name": "stdout",
     "output_type": "stream",
     "text": [
      "3375/3375 [==============================] - 14s 4ms/step - loss: 0.0374 - accuracy: 0.9887 - val_loss: 0.0715 - val_accuracy: 0.9777 - lr: 3.0000e-04\n",
      "Epoch 18/100\n",
      "3375/3375 [==============================] - 13s 4ms/step - loss: 0.0351 - accuracy: 0.9892 - val_loss: 0.0780 - val_accuracy: 0.9770 - lr: 3.0000e-04\n",
      "Epoch 19/100\n",
      "3375/3375 [==============================] - 13s 4ms/step - loss: 0.0328 - accuracy: 0.9900 - val_loss: 0.0770 - val_accuracy: 0.9753 - lr: 3.0000e-04\n",
      "Epoch 20/100\n",
      "3361/3375 [============================>.] - ETA: 0s - loss: 0.0300 - accuracy: 0.9909"
     ]
    },
    {
     "name": "stderr",
     "output_type": "stream",
     "text": [
      "WARNING:absl:Found untraced functions such as _jit_compiled_convolution_op, _jit_compiled_convolution_op, _jit_compiled_convolution_op while saving (showing 3 of 3). These functions will not be directly callable after loading.\n"
     ]
    },
    {
     "name": "stdout",
     "output_type": "stream",
     "text": [
      "INFO:tensorflow:Assets written to: Checkpoints\\Zero\\assets\n"
     ]
    },
    {
     "name": "stderr",
     "output_type": "stream",
     "text": [
      "INFO:tensorflow:Assets written to: Checkpoints\\Zero\\assets\n"
     ]
    },
    {
     "name": "stdout",
     "output_type": "stream",
     "text": [
      "3375/3375 [==============================] - 14s 4ms/step - loss: 0.0300 - accuracy: 0.9909 - val_loss: 0.0702 - val_accuracy: 0.9792 - lr: 3.0000e-04\n",
      "Epoch 21/100\n",
      "3375/3375 [==============================] - 13s 4ms/step - loss: 0.0283 - accuracy: 0.9912 - val_loss: 0.0764 - val_accuracy: 0.9767 - lr: 3.0000e-04\n",
      "Epoch 22/100\n",
      "3360/3375 [============================>.] - ETA: 0s - loss: 0.0263 - accuracy: 0.9923"
     ]
    },
    {
     "name": "stderr",
     "output_type": "stream",
     "text": [
      "WARNING:absl:Found untraced functions such as _jit_compiled_convolution_op, _jit_compiled_convolution_op, _jit_compiled_convolution_op while saving (showing 3 of 3). These functions will not be directly callable after loading.\n"
     ]
    },
    {
     "name": "stdout",
     "output_type": "stream",
     "text": [
      "INFO:tensorflow:Assets written to: Checkpoints\\Zero\\assets\n"
     ]
    },
    {
     "name": "stderr",
     "output_type": "stream",
     "text": [
      "INFO:tensorflow:Assets written to: Checkpoints\\Zero\\assets\n"
     ]
    },
    {
     "name": "stdout",
     "output_type": "stream",
     "text": [
      "3375/3375 [==============================] - 14s 4ms/step - loss: 0.0264 - accuracy: 0.9923 - val_loss: 0.0697 - val_accuracy: 0.9785 - lr: 3.0000e-04\n",
      "Epoch 23/100\n",
      "3375/3375 [==============================] - 13s 4ms/step - loss: 0.0243 - accuracy: 0.9928 - val_loss: 0.0817 - val_accuracy: 0.9748 - lr: 3.0000e-04\n",
      "Epoch 24/100\n",
      "3361/3375 [============================>.] - ETA: 0s - loss: 0.0225 - accuracy: 0.9933"
     ]
    },
    {
     "name": "stderr",
     "output_type": "stream",
     "text": [
      "WARNING:absl:Found untraced functions such as _jit_compiled_convolution_op, _jit_compiled_convolution_op, _jit_compiled_convolution_op while saving (showing 3 of 3). These functions will not be directly callable after loading.\n"
     ]
    },
    {
     "name": "stdout",
     "output_type": "stream",
     "text": [
      "INFO:tensorflow:Assets written to: Checkpoints\\Zero\\assets\n"
     ]
    },
    {
     "name": "stderr",
     "output_type": "stream",
     "text": [
      "INFO:tensorflow:Assets written to: Checkpoints\\Zero\\assets\n"
     ]
    },
    {
     "name": "stdout",
     "output_type": "stream",
     "text": [
      "3375/3375 [==============================] - 14s 4ms/step - loss: 0.0224 - accuracy: 0.9933 - val_loss: 0.0670 - val_accuracy: 0.9813 - lr: 3.0000e-04\n",
      "Epoch 25/100\n",
      "3371/3375 [============================>.] - ETA: 0s - loss: 0.0212 - accuracy: 0.9938"
     ]
    },
    {
     "name": "stderr",
     "output_type": "stream",
     "text": [
      "WARNING:absl:Found untraced functions such as _jit_compiled_convolution_op, _jit_compiled_convolution_op, _jit_compiled_convolution_op while saving (showing 3 of 3). These functions will not be directly callable after loading.\n"
     ]
    },
    {
     "name": "stdout",
     "output_type": "stream",
     "text": [
      "INFO:tensorflow:Assets written to: Checkpoints\\Zero\\assets\n"
     ]
    },
    {
     "name": "stderr",
     "output_type": "stream",
     "text": [
      "INFO:tensorflow:Assets written to: Checkpoints\\Zero\\assets\n"
     ]
    },
    {
     "name": "stdout",
     "output_type": "stream",
     "text": [
      "3375/3375 [==============================] - 15s 4ms/step - loss: 0.0212 - accuracy: 0.9938 - val_loss: 0.0644 - val_accuracy: 0.9810 - lr: 3.0000e-04\n",
      "Epoch 26/100\n",
      "3375/3375 [==============================] - 13s 4ms/step - loss: 0.0189 - accuracy: 0.9947 - val_loss: 0.0784 - val_accuracy: 0.9775 - lr: 3.0000e-04\n",
      "Epoch 27/100\n",
      "3375/3375 [==============================] - 13s 4ms/step - loss: 0.0183 - accuracy: 0.9946 - val_loss: 0.0786 - val_accuracy: 0.9773 - lr: 3.0000e-04\n",
      "Epoch 28/100\n",
      "3375/3375 [==============================] - 13s 4ms/step - loss: 0.0167 - accuracy: 0.9951 - val_loss: 0.0851 - val_accuracy: 0.9760 - lr: 3.0000e-04\n",
      "Epoch 29/100\n",
      "3375/3375 [==============================] - 12s 4ms/step - loss: 0.0156 - accuracy: 0.9956 - val_loss: 0.0843 - val_accuracy: 0.9768 - lr: 3.0000e-04\n",
      "Epoch 30/100\n",
      "3365/3375 [============================>.] - ETA: 0s - loss: 0.0143 - accuracy: 0.9958\n",
      "Epoch 30: ReduceLROnPlateau reducing learning rate to 0.0001500000071246177.\n",
      "3375/3375 [==============================] - 14s 4ms/step - loss: 0.0143 - accuracy: 0.9958 - val_loss: 0.0786 - val_accuracy: 0.9785 - lr: 3.0000e-04\n",
      "Epoch 31/100\n",
      "3375/3375 [==============================] - 13s 4ms/step - loss: 0.0099 - accuracy: 0.9978 - val_loss: 0.0705 - val_accuracy: 0.9808 - lr: 1.5000e-04\n",
      "Epoch 32/100\n",
      "3375/3375 [==============================] - 13s 4ms/step - loss: 0.0090 - accuracy: 0.9981 - val_loss: 0.0702 - val_accuracy: 0.9818 - lr: 1.5000e-04\n",
      "Epoch 33/100\n",
      "3375/3375 [==============================] - 13s 4ms/step - loss: 0.0083 - accuracy: 0.9982 - val_loss: 0.0712 - val_accuracy: 0.9807 - lr: 1.5000e-04\n",
      "Epoch 34/100\n",
      "3375/3375 [==============================] - 13s 4ms/step - loss: 0.0079 - accuracy: 0.9984 - val_loss: 0.0681 - val_accuracy: 0.9820 - lr: 1.5000e-04\n",
      "Epoch 35/100\n",
      "3365/3375 [============================>.] - ETA: 0s - loss: 0.0072 - accuracy: 0.9988\n",
      "Epoch 35: ReduceLROnPlateau reducing learning rate to 7.500000356230885e-05.\n",
      "3375/3375 [==============================] - 13s 4ms/step - loss: 0.0072 - accuracy: 0.9987 - val_loss: 0.0761 - val_accuracy: 0.9802 - lr: 1.5000e-04\n",
      "Epoch 36/100\n",
      "3375/3375 [==============================] - 15s 4ms/step - loss: 0.0062 - accuracy: 0.9989 - val_loss: 0.0711 - val_accuracy: 0.9817 - lr: 7.5000e-05\n",
      "Epoch 37/100\n",
      "3375/3375 [==============================] - 16s 5ms/step - loss: 0.0056 - accuracy: 0.9991 - val_loss: 0.0724 - val_accuracy: 0.9815 - lr: 7.5000e-05\n",
      "Epoch 38/100\n",
      "3375/3375 [==============================] - 15s 4ms/step - loss: 0.0055 - accuracy: 0.9991 - val_loss: 0.0717 - val_accuracy: 0.9815 - lr: 7.5000e-05\n",
      "Epoch 39/100\n",
      "3375/3375 [==============================] - 14s 4ms/step - loss: 0.0053 - accuracy: 0.9992 - val_loss: 0.0723 - val_accuracy: 0.9820 - lr: 7.5000e-05\n",
      "Epoch 40/100\n",
      "3370/3375 [============================>.] - ETA: 0s - loss: 0.0050 - accuracy: 0.9993\n",
      "Epoch 40: ReduceLROnPlateau reducing learning rate to 3.7500001781154424e-05.\n",
      "3375/3375 [==============================] - 13s 4ms/step - loss: 0.0050 - accuracy: 0.9993 - val_loss: 0.0725 - val_accuracy: 0.9827 - lr: 7.5000e-05\n",
      "Epoch 41/100\n",
      "3375/3375 [==============================] - 14s 4ms/step - loss: 0.0047 - accuracy: 0.9993 - val_loss: 0.0702 - val_accuracy: 0.9825 - lr: 3.7500e-05\n",
      "Epoch 42/100\n",
      "3375/3375 [==============================] - 13s 4ms/step - loss: 0.0046 - accuracy: 0.9994 - val_loss: 0.0706 - val_accuracy: 0.9822 - lr: 3.7500e-05\n",
      "Epoch 43/100\n",
      "3375/3375 [==============================] - 13s 4ms/step - loss: 0.0044 - accuracy: 0.9994 - val_loss: 0.0713 - val_accuracy: 0.9818 - lr: 3.7500e-05\n",
      "Epoch 44/100\n",
      "3375/3375 [==============================] - 14s 4ms/step - loss: 0.0043 - accuracy: 0.9994 - val_loss: 0.0710 - val_accuracy: 0.9822 - lr: 3.7500e-05\n",
      "Epoch 45/100\n",
      "3365/3375 [============================>.] - ETA: 0s - loss: 0.0042 - accuracy: 0.9995\n",
      "Epoch 45: ReduceLROnPlateau reducing learning rate to 1.8750000890577212e-05.\n",
      "3375/3375 [==============================] - 14s 4ms/step - loss: 0.0042 - accuracy: 0.9995 - val_loss: 0.0703 - val_accuracy: 0.9825 - lr: 3.7500e-05\n",
      "Epoch 46/100\n",
      "3375/3375 [==============================] - 14s 4ms/step - loss: 0.0042 - accuracy: 0.9995 - val_loss: 0.0686 - val_accuracy: 0.9827 - lr: 1.8750e-05\n",
      "Epoch 47/100\n",
      "3375/3375 [==============================] - 14s 4ms/step - loss: 0.0041 - accuracy: 0.9996 - val_loss: 0.0682 - val_accuracy: 0.9828 - lr: 1.8750e-05\n",
      "Epoch 48/100\n",
      "3375/3375 [==============================] - 14s 4ms/step - loss: 0.0041 - accuracy: 0.9995 - val_loss: 0.0685 - val_accuracy: 0.9825 - lr: 1.8750e-05\n",
      "Epoch 49/100\n",
      "3375/3375 [==============================] - 14s 4ms/step - loss: 0.0040 - accuracy: 0.9996 - val_loss: 0.0687 - val_accuracy: 0.9830 - lr: 1.8750e-05\n",
      "Epoch 50/100\n",
      "3369/3375 [============================>.] - ETA: 0s - loss: 0.0040 - accuracy: 0.9995\n",
      "Epoch 50: ReduceLROnPlateau reducing learning rate to 1e-05.\n",
      "3375/3375 [==============================] - 14s 4ms/step - loss: 0.0040 - accuracy: 0.9995 - val_loss: 0.0688 - val_accuracy: 0.9828 - lr: 1.8750e-05\n",
      "Epoch 51/100\n",
      "3375/3375 [==============================] - 13s 4ms/step - loss: 0.0040 - accuracy: 0.9996 - val_loss: 0.0676 - val_accuracy: 0.9837 - lr: 1.0000e-05\n",
      "Epoch 52/100\n",
      "3375/3375 [==============================] - 14s 4ms/step - loss: 0.0040 - accuracy: 0.9996 - val_loss: 0.0677 - val_accuracy: 0.9838 - lr: 1.0000e-05\n",
      "Epoch 53/100\n",
      "3375/3375 [==============================] - 13s 4ms/step - loss: 0.0039 - accuracy: 0.9995 - val_loss: 0.0676 - val_accuracy: 0.9838 - lr: 1.0000e-05\n",
      "Epoch 54/100\n",
      "3375/3375 [==============================] - 13s 4ms/step - loss: 0.0039 - accuracy: 0.9996 - val_loss: 0.0679 - val_accuracy: 0.9840 - lr: 1.0000e-05\n",
      "Epoch 55/100\n",
      "3375/3375 [==============================] - 13s 4ms/step - loss: 0.0039 - accuracy: 0.9996 - val_loss: 0.0677 - val_accuracy: 0.9835 - lr: 1.0000e-05\n"
     ]
    },
    {
     "data": {
      "text/plain": "<keras.callbacks.History at 0x24b7e5c1ae0>"
     },
     "execution_count": 7,
     "metadata": {},
     "output_type": "execute_result"
    }
   ],
   "source": [
    "def callback():\n",
    "  main_chk  = keras.callbacks.ModelCheckpoint(filepath=\"Checkpoints/Zero\", monitor='val_loss', mode='min', verbose=0, save_best_only=True)\n",
    "  early_st  = keras.callbacks.EarlyStopping(monitor='val_loss', mode='min', patience=30, verbose=0)\n",
    "  rduce_lr  = keras.callbacks.ReduceLROnPlateau(monitor='val_loss', mode='min', factor=0.5, patience=5, verbose=1, min_lr=0.00001)\n",
    "\n",
    "  return [main_chk, early_st, rduce_lr]\n",
    "\n",
    "model.fit(train_dataset, validation_data=val_dataset, epochs=num_epochs, batch_size=batch_size, callbacks=callback())"
   ]
  },
  {
   "cell_type": "markdown",
   "metadata": {
    "id": "XHG9E07bqECH",
    "ExecuteTime": {
     "end_time": "2024-11-22T23:10:10.564855800Z",
     "start_time": "2024-11-22T23:10:10.564855800Z"
    }
   },
   "source": [
    "# Evaluation"
   ]
  },
  {
   "cell_type": "code",
   "execution_count": 8,
   "outputs": [
    {
     "name": "stdout",
     "output_type": "stream",
     "text": [
      "625/625 [==============================] - 2s 3ms/step - loss: 0.0697 - accuracy: 0.9783\n"
     ]
    },
    {
     "data": {
      "text/plain": "[0.06968142092227936, 0.9782999753952026]"
     },
     "execution_count": 8,
     "metadata": {},
     "output_type": "execute_result"
    }
   ],
   "source": [
    "test_model = tf.keras.models.load_model(\"Checkpoints/Zero\")\n",
    "test_model.evaluate(test_dataset, verbose=1, batch_size=batch_size)"
   ],
   "metadata": {
    "collapsed": false,
    "ExecuteTime": {
     "end_time": "2024-11-23T14:18:50.980862600Z",
     "start_time": "2024-11-23T14:18:48.258682100Z"
    }
   }
  }
 ],
 "metadata": {
  "accelerator": "GPU",
  "colab": {
   "provenance": []
  },
  "kernelspec": {
   "display_name": "Python 3",
   "language": "python",
   "name": "python3"
  },
  "language_info": {
   "codemirror_mode": {
    "name": "ipython",
    "version": 3
   },
   "file_extension": ".py",
   "mimetype": "text/x-python",
   "name": "python",
   "nbconvert_exporter": "python",
   "pygments_lexer": "ipython3",
   "version": "3.7.0"
  }
 },
 "nbformat": 4,
 "nbformat_minor": 0
}
